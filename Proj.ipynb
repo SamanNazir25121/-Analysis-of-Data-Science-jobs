{
 "cells": [
  {
   "cell_type": "markdown",
   "metadata": {},
   "source": [
    "## Importing the Libraries"
   ]
  },
  {
   "cell_type": "code",
   "execution_count": 58,
   "metadata": {},
   "outputs": [],
   "source": [
    "import pandas as pd\n",
    "import sklearn\n",
    "import numpy as nm  \n",
    "import matplotlib.pyplot as mtp"
   ]
  },
  {
   "cell_type": "markdown",
   "metadata": {},
   "source": [
    "## Data reading"
   ]
  },
  {
   "cell_type": "code",
   "execution_count": 59,
   "metadata": {},
   "outputs": [],
   "source": [
    "df = pd.read_excel(\"/Users/user/Downloads/DVA-Project-Data.xlsx\")"
   ]
  },
  {
   "cell_type": "code",
   "execution_count": 60,
   "metadata": {},
   "outputs": [
    {
     "data": {
      "text/html": [
       "<div>\n",
       "<style scoped>\n",
       "    .dataframe tbody tr th:only-of-type {\n",
       "        vertical-align: middle;\n",
       "    }\n",
       "\n",
       "    .dataframe tbody tr th {\n",
       "        vertical-align: top;\n",
       "    }\n",
       "\n",
       "    .dataframe thead th {\n",
       "        text-align: right;\n",
       "    }\n",
       "</style>\n",
       "<table border=\"1\" class=\"dataframe\">\n",
       "  <thead>\n",
       "    <tr style=\"text-align: right;\">\n",
       "      <th></th>\n",
       "      <th>Name</th>\n",
       "      <th>Jobs</th>\n",
       "      <th>Company</th>\n",
       "      <th>Experience</th>\n",
       "      <th>Certification</th>\n",
       "      <th>Degree</th>\n",
       "    </tr>\n",
       "  </thead>\n",
       "  <tbody>\n",
       "    <tr>\n",
       "      <th>0</th>\n",
       "      <td>Naiara W Jacoboski</td>\n",
       "      <td>Business Intelligence Analyst</td>\n",
       "      <td>Netza</td>\n",
       "      <td>1 yr</td>\n",
       "      <td>Machine Learning</td>\n",
       "      <td>MSc Science</td>\n",
       "    </tr>\n",
       "    <tr>\n",
       "      <th>1</th>\n",
       "      <td>Sedat Karsli</td>\n",
       "      <td>Data Analyst</td>\n",
       "      <td>Vitrio</td>\n",
       "      <td>2 mos</td>\n",
       "      <td>Fundamentals Big Data</td>\n",
       "      <td>MSc Data Science</td>\n",
       "    </tr>\n",
       "    <tr>\n",
       "      <th>2</th>\n",
       "      <td>Maximilian Pfleger</td>\n",
       "      <td>Data Analytics Intern</td>\n",
       "      <td>Edelman Brasil</td>\n",
       "      <td>10 mos</td>\n",
       "      <td>Power BI</td>\n",
       "      <td>Bs Computer Science</td>\n",
       "    </tr>\n",
       "    <tr>\n",
       "      <th>3</th>\n",
       "      <td>Daniel Ankamah</td>\n",
       "      <td>Assistant Civil Engineer</td>\n",
       "      <td>Marques Construtora e Incorporadora Ltda</td>\n",
       "      <td>4 yr</td>\n",
       "      <td>Power BI para Data Science</td>\n",
       "      <td>Bs Technology</td>\n",
       "    </tr>\n",
       "    <tr>\n",
       "      <th>4</th>\n",
       "      <td>Amisha Agrawal</td>\n",
       "      <td>Senior Data Analyst</td>\n",
       "      <td>Joyn GmbH</td>\n",
       "      <td>1 yr 3 mos</td>\n",
       "      <td>Learning Django</td>\n",
       "      <td>MSc Data Analyst</td>\n",
       "    </tr>\n",
       "  </tbody>\n",
       "</table>\n",
       "</div>"
      ],
      "text/plain": [
       "                 Name                           Jobs  \\\n",
       "0  Naiara W Jacoboski  Business Intelligence Analyst   \n",
       "1        Sedat Karsli                   Data Analyst   \n",
       "2  Maximilian Pfleger          Data Analytics Intern   \n",
       "3      Daniel Ankamah       Assistant Civil Engineer   \n",
       "4      Amisha Agrawal            Senior Data Analyst   \n",
       "\n",
       "                                    Company Experience   \\\n",
       "0                                     Netza        1 yr   \n",
       "1                                    Vitrio       2 mos   \n",
       "2                            Edelman Brasil      10 mos   \n",
       "3  Marques Construtora e Incorporadora Ltda        4 yr   \n",
       "4                                 Joyn GmbH  1 yr 3 mos   \n",
       "\n",
       "                Certification               Degree  \n",
       "0            Machine Learning          MSc Science  \n",
       "1       Fundamentals Big Data     MSc Data Science  \n",
       "2                    Power BI  Bs Computer Science  \n",
       "3  Power BI para Data Science        Bs Technology  \n",
       "4             Learning Django     MSc Data Analyst  "
      ]
     },
     "execution_count": 60,
     "metadata": {},
     "output_type": "execute_result"
    }
   ],
   "source": [
    "df.head()"
   ]
  },
  {
   "cell_type": "markdown",
   "metadata": {},
   "source": [
    "## Data Maintaining"
   ]
  },
  {
   "cell_type": "markdown",
   "metadata": {},
   "source": [
    "### Converting years into days"
   ]
  },
  {
   "cell_type": "code",
   "execution_count": 61,
   "metadata": {},
   "outputs": [
    {
     "data": {
      "text/plain": [
       "['1 yr',\n",
       " '2 mos',\n",
       " '10 mos',\n",
       " '4 yr',\n",
       " '1 yr 3 mos',\n",
       " '2 yr 3 mos',\n",
       " '1 yr 2 mos',\n",
       " '6 mos',\n",
       " '1 yr 1 mo',\n",
       " '8 mos',\n",
       " '7 mos',\n",
       " '1 yr 5 mos',\n",
       " '2 yr 10 mos',\n",
       " '5 mos',\n",
       " '3 yr 10 mos',\n",
       " '9 mos',\n",
       " '3 mos',\n",
       " '3 yrs 9 mos',\n",
       " '11 mos',\n",
       " '2 yrs 4 mos',\n",
       " '1 yr 7 mos',\n",
       " '4 mos',\n",
       " '1 yr 9 mos',\n",
       " '2 yrs 11 mos',\n",
       " '2 yrs 1 mo',\n",
       " '3 yrs 10 mos',\n",
       " '4 yrs 4 mos',\n",
       " '6 yrs 5 mos',\n",
       " '3 yrs 4 mos',\n",
       " '6 yrs 9 mos',\n",
       " '7 yrs 9 mos',\n",
       " 'Full-time',\n",
       " '1 yr 11 mos',\n",
       " '2 yrs 3 mos',\n",
       " '5 yrs 11 mos',\n",
       " '2 yrs 7 mos',\n",
       " 'Internship',\n",
       " '5 yrs 1 mo',\n",
       " '4 yrs 7 mos',\n",
       " '3 yrs',\n",
       " '4 yrs 11 mos',\n",
       " '2 yrs 2 mos',\n",
       " '3 yrs 1 mo',\n",
       " '1 yr 6 mos',\n",
       " '2 yrs 8 mos',\n",
       " '1 yr 4 mos',\n",
       " '1 mo',\n",
       " '5 yrs 2 mos',\n",
       " '3 yrs 6 mos',\n",
       " '1 yr 8 mos',\n",
       " '3 yrs 7 mos',\n",
       " '1 yr 10 mos',\n",
       " '4 yrs 8 mos',\n",
       " '2 yrs 5 mos',\n",
       " '3 yrs 2 mos',\n",
       " '4 yrs 6 mos',\n",
       " '6 yrs',\n",
       " '3 yrs 8 mos',\n",
       " '3 yrs 11 mos',\n",
       " '4 yrs 1 mo',\n",
       " '5 yrs 8 mos',\n",
       " '4 yrs 10 mos',\n",
       " '9 yrs 8 mos',\n",
       " '2 yrs 6 mos',\n",
       " '5 yrs 3 mos',\n",
       " '4 yrs 9 mos',\n",
       " '6 yrs 2 mos',\n",
       " '5 yrs 10 mos',\n",
       " '4 yrs 5 mos',\n",
       " '11 yrs 5 mos',\n",
       " '5 yrs 6 mos',\n",
       " '5 yrs 9 mos',\n",
       " '4 yrs 2 mos',\n",
       " '6 yrs 8 mos',\n",
       " '4 yrs',\n",
       " '2 yrs',\n",
       " 'Less than a year',\n",
       " '2 yrs 10 mos',\n",
       " '6 yrs 1 mo',\n",
       " '21 yrs',\n",
       " '9 yrs 1 mo',\n",
       " '5 yrs 4 mos',\n",
       " '7 yrs 10 mos',\n",
       " '15 yrs 4 mos',\n",
       " '7 yrs 7 mos',\n",
       " '7 yrs 3 mos',\n",
       " '8 yrs 9 mos',\n",
       " '10 yrs 1 mo',\n",
       " '3 yrs 5 mos',\n",
       " '4 yrs 3 mos',\n",
       " '8 yrs 11 mos',\n",
       " '2 yrs 9 mos']"
      ]
     },
     "execution_count": 61,
     "metadata": {},
     "output_type": "execute_result"
    }
   ],
   "source": [
    "df['Experience '].unique().tolist()"
   ]
  },
  {
   "cell_type": "code",
   "execution_count": 62,
   "metadata": {},
   "outputs": [],
   "source": [
    "def experience_convertor(exp_val):\n",
    "  value=0\n",
    "  value_to_change=exp_val\n",
    "  str_to_list=value_to_change.split()\n",
    "  #print(str_to_list)\n",
    "  length_of_lst=len(str_to_list)\n",
    "  try:\n",
    "    if length_of_lst==4:\n",
    "      month=int(float(str_to_list[2]))\n",
    "      yrs=int(float(str_to_list[0]))\n",
    "      value=month*30\n",
    "      value=value+yrs*365                       #write conditon\n",
    "    if length_of_lst==2:\n",
    "      yr_month=str_to_list[-1]\n",
    "      val=int(float(str_to_list[0])  )\n",
    "      if (yr_month.lower().strip()=='mos' or yr_month.lower().strip()=='mo'):\n",
    "        value= val*30                     #write conditon\n",
    "      if (yr_month.lower().strip()=='yr' or yr_month.lower().strip()=='yrs'):\n",
    "        value=val*365 \n",
    "  except:\n",
    "    value= 0                     #write conditon\n",
    "  return value\n",
    "\n",
    "\n",
    "\n",
    "df['Experience ']=df['Experience '].apply(experience_convertor)"
   ]
  },
  {
   "cell_type": "markdown",
   "metadata": {},
   "source": [
    "### Lowering all cases"
   ]
  },
  {
   "cell_type": "code",
   "execution_count": 63,
   "metadata": {},
   "outputs": [],
   "source": [
    "df = df.apply(lambda x: x.astype(str).str.lower())"
   ]
  },
  {
   "cell_type": "markdown",
   "metadata": {},
   "source": [
    "### Striping the cases"
   ]
  },
  {
   "cell_type": "code",
   "execution_count": 64,
   "metadata": {},
   "outputs": [
    {
     "data": {
      "text/html": [
       "<div>\n",
       "<style scoped>\n",
       "    .dataframe tbody tr th:only-of-type {\n",
       "        vertical-align: middle;\n",
       "    }\n",
       "\n",
       "    .dataframe tbody tr th {\n",
       "        vertical-align: top;\n",
       "    }\n",
       "\n",
       "    .dataframe thead th {\n",
       "        text-align: right;\n",
       "    }\n",
       "</style>\n",
       "<table border=\"1\" class=\"dataframe\">\n",
       "  <thead>\n",
       "    <tr style=\"text-align: right;\">\n",
       "      <th></th>\n",
       "      <th>Name</th>\n",
       "      <th>Jobs</th>\n",
       "      <th>Company</th>\n",
       "      <th>Experience</th>\n",
       "      <th>Certification</th>\n",
       "      <th>Degree</th>\n",
       "    </tr>\n",
       "  </thead>\n",
       "  <tbody>\n",
       "    <tr>\n",
       "      <th>0</th>\n",
       "      <td>naiara w jacoboski</td>\n",
       "      <td>business intelligence analyst</td>\n",
       "      <td>netza</td>\n",
       "      <td>365</td>\n",
       "      <td>machine learning</td>\n",
       "      <td>msc science</td>\n",
       "    </tr>\n",
       "    <tr>\n",
       "      <th>1</th>\n",
       "      <td>sedat karsli</td>\n",
       "      <td>data analyst</td>\n",
       "      <td>vitrio</td>\n",
       "      <td>60</td>\n",
       "      <td>fundamentals big data</td>\n",
       "      <td>msc data science</td>\n",
       "    </tr>\n",
       "    <tr>\n",
       "      <th>2</th>\n",
       "      <td>maximilian pfleger</td>\n",
       "      <td>data analytics intern</td>\n",
       "      <td>edelman brasil</td>\n",
       "      <td>300</td>\n",
       "      <td>power bi</td>\n",
       "      <td>bs computer science</td>\n",
       "    </tr>\n",
       "    <tr>\n",
       "      <th>3</th>\n",
       "      <td>daniel ankamah</td>\n",
       "      <td>assistant civil engineer</td>\n",
       "      <td>marques construtora e incorporadora ltda</td>\n",
       "      <td>1460</td>\n",
       "      <td>power bi para data science</td>\n",
       "      <td>bs technology</td>\n",
       "    </tr>\n",
       "    <tr>\n",
       "      <th>4</th>\n",
       "      <td>amisha agrawal</td>\n",
       "      <td>senior data analyst</td>\n",
       "      <td>joyn gmbh</td>\n",
       "      <td>455</td>\n",
       "      <td>learning django</td>\n",
       "      <td>msc data analyst</td>\n",
       "    </tr>\n",
       "    <tr>\n",
       "      <th>...</th>\n",
       "      <td>...</td>\n",
       "      <td>...</td>\n",
       "      <td>...</td>\n",
       "      <td>...</td>\n",
       "      <td>...</td>\n",
       "      <td>...</td>\n",
       "    </tr>\n",
       "    <tr>\n",
       "      <th>434</th>\n",
       "      <td>lukas krumholz</td>\n",
       "      <td>data analyst</td>\n",
       "      <td>amer sports corporation</td>\n",
       "      <td>545</td>\n",
       "      <td>it-specialist for application development</td>\n",
       "      <td>phd data science</td>\n",
       "    </tr>\n",
       "    <tr>\n",
       "      <th>435</th>\n",
       "      <td>bo li</td>\n",
       "      <td>it business consultant sap bi/bw</td>\n",
       "      <td>swarovski</td>\n",
       "      <td>1000</td>\n",
       "      <td>itil foundation</td>\n",
       "      <td>msc science</td>\n",
       "    </tr>\n",
       "    <tr>\n",
       "      <th>436</th>\n",
       "      <td>bidyut saha - data analyst</td>\n",
       "      <td>technical support engineer</td>\n",
       "      <td>sap</td>\n",
       "      <td>730</td>\n",
       "      <td>microsoft sql server 2019 essential training</td>\n",
       "      <td>msc data science</td>\n",
       "    </tr>\n",
       "    <tr>\n",
       "      <th>437</th>\n",
       "      <td>sven serr</td>\n",
       "      <td>hardware development engineer</td>\n",
       "      <td>amores robotics</td>\n",
       "      <td>365</td>\n",
       "      <td>big data analytics using spark</td>\n",
       "      <td>bs computer science</td>\n",
       "    </tr>\n",
       "    <tr>\n",
       "      <th>438</th>\n",
       "      <td>julia fietz</td>\n",
       "      <td>hardware development engineer intern</td>\n",
       "      <td>relcom ltd.</td>\n",
       "      <td>180</td>\n",
       "      <td>data fluency</td>\n",
       "      <td>bs technology</td>\n",
       "    </tr>\n",
       "  </tbody>\n",
       "</table>\n",
       "<p>439 rows × 6 columns</p>\n",
       "</div>"
      ],
      "text/plain": [
       "                           Name                                  Jobs  \\\n",
       "0            naiara w jacoboski         business intelligence analyst   \n",
       "1                  sedat karsli                          data analyst   \n",
       "2            maximilian pfleger                 data analytics intern   \n",
       "3                daniel ankamah              assistant civil engineer   \n",
       "4                amisha agrawal                   senior data analyst   \n",
       "..                          ...                                   ...   \n",
       "434              lukas krumholz                          data analyst   \n",
       "435                       bo li      it business consultant sap bi/bw   \n",
       "436  bidyut saha - data analyst            technical support engineer   \n",
       "437                   sven serr         hardware development engineer   \n",
       "438                 julia fietz  hardware development engineer intern   \n",
       "\n",
       "                                      Company Experience   \\\n",
       "0                                       netza         365   \n",
       "1                                      vitrio          60   \n",
       "2                              edelman brasil         300   \n",
       "3    marques construtora e incorporadora ltda        1460   \n",
       "4                                   joyn gmbh         455   \n",
       "..                                        ...         ...   \n",
       "434                   amer sports corporation         545   \n",
       "435                                 swarovski        1000   \n",
       "436                                       sap         730   \n",
       "437                           amores robotics         365   \n",
       "438                               relcom ltd.         180   \n",
       "\n",
       "                                    Certification               Degree  \n",
       "0                                machine learning          msc science  \n",
       "1                           fundamentals big data     msc data science  \n",
       "2                                        power bi  bs computer science  \n",
       "3                      power bi para data science        bs technology  \n",
       "4                                 learning django     msc data analyst  \n",
       "..                                            ...                  ...  \n",
       "434     it-specialist for application development     phd data science  \n",
       "435                               itil foundation          msc science  \n",
       "436  microsoft sql server 2019 essential training     msc data science  \n",
       "437                big data analytics using spark  bs computer science  \n",
       "438                                  data fluency        bs technology  \n",
       "\n",
       "[439 rows x 6 columns]"
      ]
     },
     "execution_count": 64,
     "metadata": {},
     "output_type": "execute_result"
    }
   ],
   "source": [
    "df = df.apply(lambda x: x.apply(lambda y: y.strip() if type(y) == type('') else y), axis=0)\n",
    "df"
   ]
  },
  {
   "cell_type": "code",
   "execution_count": 65,
   "metadata": {},
   "outputs": [
    {
     "data": {
      "text/plain": [
       "data scientist                          38\n",
       "data analyst                            37\n",
       "researcher                              13\n",
       "senior data analyst                     13\n",
       "student                                 13\n",
       "                                        ..\n",
       "communications officer                   1\n",
       "international consultant                 1\n",
       "signal processing engineer               1\n",
       "master's thesis                          1\n",
       "hardware development engineer intern     1\n",
       "Name: Jobs, Length: 260, dtype: int64"
      ]
     },
     "execution_count": 65,
     "metadata": {},
     "output_type": "execute_result"
    }
   ],
   "source": [
    "x = df['Jobs']\n",
    "x.value_counts()"
   ]
  },
  {
   "cell_type": "code",
   "execution_count": 66,
   "metadata": {},
   "outputs": [],
   "source": [
    "def check(df, sub_str, stri):\n",
    "    for i in range(0,len(df.iloc[:,1])):\n",
    "      if (df.iloc[i,1].find(sub_str)!=-1):\n",
    "        df.iloc[i,1]=stri\n",
    "      \n",
    "          \n",
    " \n",
    "check(df, \"data science\",\"data scientist and analyst\")\n",
    "check(df, \"data scientist\",\"data scientist and analyst\")\n",
    "check(df, \"ai\",\"data scientist and analyst\")\n",
    "check(df, \"bi\",\"data scientist and analyst\")\n",
    "check(df, \"business intelligence\",\"data scientist and analyst\")\n",
    "check(df, \"business\",\"data scientist and analyst\")\n",
    "check(df, \"artificial intelligence\",\"data scientist and analyst\")\n",
    "check(df, \"research\",\"intern\")\n",
    "check(df, \"researcher\",\"intern\")\n",
    "check(df, \"student\",\"intern\")\n",
    "check(df, \"intern\",\"intern\")\n",
    "check(df, \"engineer\",\"others\")\n",
    "\n",
    "\n",
    "\n",
    "\n",
    "\n",
    "for i in range(0,len(df.iloc[:,1])):\n",
    "      if (df.iloc[i,1].find(\"analyst\")!=-1 and df.iloc[i,1].find(\"data analyst\")==-1):\n",
    "        df.iloc[i,1]='data scientist and analyst'\n",
    "\n",
    "for i in range(0,len(df.iloc[:,1])):\n",
    "      if (df.iloc[i,1]!=\"data scientist and analyst\"  and df.iloc[i,1]!=\"researhcer\" and df.iloc[i,1]!=\"intern\"):\n",
    "        df.iloc[i,1]='others'\n",
    "\n",
    "\n",
    "check(df,\"data analyst\",\"data scientist and analyst\")\n",
    "check(df,\"data analystics\",\"data scientist and analyst\")"
   ]
  },
  {
   "cell_type": "code",
   "execution_count": 67,
   "metadata": {},
   "outputs": [
    {
     "data": {
      "text/plain": [
       "others                        196\n",
       "data scientist and analyst    127\n",
       "intern                        116\n",
       "Name: Jobs, dtype: int64"
      ]
     },
     "execution_count": 67,
     "metadata": {},
     "output_type": "execute_result"
    }
   ],
   "source": [
    "x = df['Jobs']\n",
    "x.value_counts()"
   ]
  },
  {
   "cell_type": "code",
   "execution_count": 68,
   "metadata": {},
   "outputs": [],
   "source": [
    "def certificates(df, sub_str, stri):\n",
    "    for i in range(0,len(df.iloc[:,4])):\n",
    "      if (df.iloc[i,4].find(sub_str)!=-1):\n",
    "        df.iloc[i,4]=stri\n",
    "      \n",
    "          \n",
    "      \n",
    "       \n",
    " \n",
    "certificates(df, \"machine learning\",\"machine learning\")\n",
    "certificates(df, \"power bi\",\"power bi\")\n",
    "certificates(df, \"neural networks\",\"neural networks\")\n",
    "certificates(df, \"data science\",\"data science\")\n",
    "certificates(df, \"data scientist\",\"data science\")\n",
    "certificates(df, \"scrum\",\"scrum master\")\n",
    "certificates(df, \"microsoft\",\"microsoft certified\")\n",
    "certificates(df, \"data analytics\",\"data analytics\")\n",
    "certificates(df, \"python\",\"certified in python\")\n",
    "certificates(df, \"R\",\"Certified in R\")\n",
    "\n",
    "\n",
    "\n",
    "\n",
    "\n",
    "\n",
    "for i in range(0,len(df.iloc[:,1])):\n",
    "      if (df.iloc[i,1].find(\"analyst\")!=-1 and df.iloc[i,1].find(\"data analyst\")==-1):\n",
    "        df.iloc[i,1]='data scientist'      \n",
    "        \n",
    "for i in range(0,len(df.iloc[:,4])):\n",
    "      if (df.iloc[i,4]!=\"machine learning\" and df.iloc[i,4]!=\"power bi\" and df.iloc[i,4]!=\"neural networks\" and df.iloc[i,4]!=\"data science\" and df.iloc[i,4]!=\"scrum master\" and df.iloc[i,4]!=\"microsoft certified\" and df.iloc[i,4]!=\"data analytics\" and df.iloc[i,4]!=\"certified in python\" and df.iloc[i,4]!=\"Certified in R\" and df.iloc[i,4]!=\"Learning django\"):\n",
    "        df.iloc[i,4]='others'        \n",
    "\n",
    "\n",
    "certificates(df,\"data analyst\",\"data analyst\")"
   ]
  },
  {
   "cell_type": "code",
   "execution_count": 69,
   "metadata": {},
   "outputs": [
    {
     "data": {
      "text/plain": [
       "0         machine learning\n",
       "1                   others\n",
       "2                 power bi\n",
       "3                 power bi\n",
       "4                   others\n",
       "              ...         \n",
       "434                 others\n",
       "435                 others\n",
       "436    microsoft certified\n",
       "437         data analytics\n",
       "438                 others\n",
       "Name: Certification, Length: 439, dtype: object"
      ]
     },
     "execution_count": 69,
     "metadata": {},
     "output_type": "execute_result"
    }
   ],
   "source": [
    "df['Certification']"
   ]
  },
  {
   "cell_type": "code",
   "execution_count": 70,
   "metadata": {},
   "outputs": [
    {
     "data": {
      "text/plain": [
       "others                 272\n",
       "data science            54\n",
       "machine learning        34\n",
       "certified in python     25\n",
       "neural networks         16\n",
       "data analytics          11\n",
       "scrum master            10\n",
       "microsoft certified      9\n",
       "power bi                 8\n",
       "Name: Certification, dtype: int64"
      ]
     },
     "execution_count": 70,
     "metadata": {},
     "output_type": "execute_result"
    }
   ],
   "source": [
    "x = df['Certification']\n",
    "x.value_counts()"
   ]
  },
  {
   "cell_type": "code",
   "execution_count": 71,
   "metadata": {},
   "outputs": [
    {
     "data": {
      "text/html": [
       "<div>\n",
       "<style scoped>\n",
       "    .dataframe tbody tr th:only-of-type {\n",
       "        vertical-align: middle;\n",
       "    }\n",
       "\n",
       "    .dataframe tbody tr th {\n",
       "        vertical-align: top;\n",
       "    }\n",
       "\n",
       "    .dataframe thead th {\n",
       "        text-align: right;\n",
       "    }\n",
       "</style>\n",
       "<table border=\"1\" class=\"dataframe\">\n",
       "  <thead>\n",
       "    <tr style=\"text-align: right;\">\n",
       "      <th></th>\n",
       "      <th>Name</th>\n",
       "      <th>Jobs</th>\n",
       "      <th>Company</th>\n",
       "      <th>Experience</th>\n",
       "      <th>Certification</th>\n",
       "      <th>Degree</th>\n",
       "    </tr>\n",
       "  </thead>\n",
       "  <tbody>\n",
       "    <tr>\n",
       "      <th>0</th>\n",
       "      <td>naiara w jacoboski</td>\n",
       "      <td>data scientist</td>\n",
       "      <td>netza</td>\n",
       "      <td>365</td>\n",
       "      <td>machine learning</td>\n",
       "      <td>msc science</td>\n",
       "    </tr>\n",
       "    <tr>\n",
       "      <th>1</th>\n",
       "      <td>sedat karsli</td>\n",
       "      <td>others</td>\n",
       "      <td>vitrio</td>\n",
       "      <td>60</td>\n",
       "      <td>others</td>\n",
       "      <td>msc data science</td>\n",
       "    </tr>\n",
       "    <tr>\n",
       "      <th>2</th>\n",
       "      <td>maximilian pfleger</td>\n",
       "      <td>intern</td>\n",
       "      <td>edelman brasil</td>\n",
       "      <td>300</td>\n",
       "      <td>power bi</td>\n",
       "      <td>bs computer science</td>\n",
       "    </tr>\n",
       "    <tr>\n",
       "      <th>3</th>\n",
       "      <td>daniel ankamah</td>\n",
       "      <td>others</td>\n",
       "      <td>marques construtora e incorporadora ltda</td>\n",
       "      <td>1460</td>\n",
       "      <td>power bi</td>\n",
       "      <td>bs technology</td>\n",
       "    </tr>\n",
       "    <tr>\n",
       "      <th>4</th>\n",
       "      <td>amisha agrawal</td>\n",
       "      <td>others</td>\n",
       "      <td>joyn gmbh</td>\n",
       "      <td>455</td>\n",
       "      <td>others</td>\n",
       "      <td>msc data analyst</td>\n",
       "    </tr>\n",
       "    <tr>\n",
       "      <th>...</th>\n",
       "      <td>...</td>\n",
       "      <td>...</td>\n",
       "      <td>...</td>\n",
       "      <td>...</td>\n",
       "      <td>...</td>\n",
       "      <td>...</td>\n",
       "    </tr>\n",
       "    <tr>\n",
       "      <th>434</th>\n",
       "      <td>lukas krumholz</td>\n",
       "      <td>others</td>\n",
       "      <td>amer sports corporation</td>\n",
       "      <td>545</td>\n",
       "      <td>others</td>\n",
       "      <td>phd data science</td>\n",
       "    </tr>\n",
       "    <tr>\n",
       "      <th>435</th>\n",
       "      <td>bo li</td>\n",
       "      <td>data scientist</td>\n",
       "      <td>swarovski</td>\n",
       "      <td>1000</td>\n",
       "      <td>others</td>\n",
       "      <td>msc science</td>\n",
       "    </tr>\n",
       "    <tr>\n",
       "      <th>436</th>\n",
       "      <td>bidyut saha - data analyst</td>\n",
       "      <td>others</td>\n",
       "      <td>sap</td>\n",
       "      <td>730</td>\n",
       "      <td>microsoft certified</td>\n",
       "      <td>msc data science</td>\n",
       "    </tr>\n",
       "    <tr>\n",
       "      <th>437</th>\n",
       "      <td>sven serr</td>\n",
       "      <td>others</td>\n",
       "      <td>amores robotics</td>\n",
       "      <td>365</td>\n",
       "      <td>data analytics</td>\n",
       "      <td>bs computer science</td>\n",
       "    </tr>\n",
       "    <tr>\n",
       "      <th>438</th>\n",
       "      <td>julia fietz</td>\n",
       "      <td>intern</td>\n",
       "      <td>relcom ltd.</td>\n",
       "      <td>180</td>\n",
       "      <td>others</td>\n",
       "      <td>bs technology</td>\n",
       "    </tr>\n",
       "  </tbody>\n",
       "</table>\n",
       "<p>439 rows × 6 columns</p>\n",
       "</div>"
      ],
      "text/plain": [
       "                           Name            Jobs  \\\n",
       "0            naiara w jacoboski  data scientist   \n",
       "1                  sedat karsli          others   \n",
       "2            maximilian pfleger          intern   \n",
       "3                daniel ankamah          others   \n",
       "4                amisha agrawal          others   \n",
       "..                          ...             ...   \n",
       "434              lukas krumholz          others   \n",
       "435                       bo li  data scientist   \n",
       "436  bidyut saha - data analyst          others   \n",
       "437                   sven serr          others   \n",
       "438                 julia fietz          intern   \n",
       "\n",
       "                                      Company Experience   \\\n",
       "0                                       netza         365   \n",
       "1                                      vitrio          60   \n",
       "2                              edelman brasil         300   \n",
       "3    marques construtora e incorporadora ltda        1460   \n",
       "4                                   joyn gmbh         455   \n",
       "..                                        ...         ...   \n",
       "434                   amer sports corporation         545   \n",
       "435                                 swarovski        1000   \n",
       "436                                       sap         730   \n",
       "437                           amores robotics         365   \n",
       "438                               relcom ltd.         180   \n",
       "\n",
       "           Certification               Degree  \n",
       "0       machine learning          msc science  \n",
       "1                 others     msc data science  \n",
       "2               power bi  bs computer science  \n",
       "3               power bi        bs technology  \n",
       "4                 others     msc data analyst  \n",
       "..                   ...                  ...  \n",
       "434               others     phd data science  \n",
       "435               others          msc science  \n",
       "436  microsoft certified     msc data science  \n",
       "437       data analytics  bs computer science  \n",
       "438               others        bs technology  \n",
       "\n",
       "[439 rows x 6 columns]"
      ]
     },
     "execution_count": 71,
     "metadata": {},
     "output_type": "execute_result"
    }
   ],
   "source": [
    "df"
   ]
  },
  {
   "cell_type": "code",
   "execution_count": 72,
   "metadata": {},
   "outputs": [
    {
     "data": {
      "text/html": [
       "<div>\n",
       "<style scoped>\n",
       "    .dataframe tbody tr th:only-of-type {\n",
       "        vertical-align: middle;\n",
       "    }\n",
       "\n",
       "    .dataframe tbody tr th {\n",
       "        vertical-align: top;\n",
       "    }\n",
       "\n",
       "    .dataframe thead th {\n",
       "        text-align: right;\n",
       "    }\n",
       "</style>\n",
       "<table border=\"1\" class=\"dataframe\">\n",
       "  <thead>\n",
       "    <tr style=\"text-align: right;\">\n",
       "      <th></th>\n",
       "      <th>Name</th>\n",
       "      <th>Jobs</th>\n",
       "      <th>Company</th>\n",
       "      <th>Experience</th>\n",
       "      <th>Certification</th>\n",
       "      <th>Degree</th>\n",
       "    </tr>\n",
       "  </thead>\n",
       "  <tbody>\n",
       "    <tr>\n",
       "      <th>0</th>\n",
       "      <td>naiara w jacoboski</td>\n",
       "      <td>data scientist</td>\n",
       "      <td>netza</td>\n",
       "      <td>365</td>\n",
       "      <td>machine learning</td>\n",
       "      <td>msc science</td>\n",
       "    </tr>\n",
       "    <tr>\n",
       "      <th>1</th>\n",
       "      <td>sedat karsli</td>\n",
       "      <td>others</td>\n",
       "      <td>vitrio</td>\n",
       "      <td>60</td>\n",
       "      <td>others</td>\n",
       "      <td>msc data science</td>\n",
       "    </tr>\n",
       "    <tr>\n",
       "      <th>2</th>\n",
       "      <td>maximilian pfleger</td>\n",
       "      <td>intern</td>\n",
       "      <td>edelman brasil</td>\n",
       "      <td>300</td>\n",
       "      <td>power bi</td>\n",
       "      <td>bs computer science</td>\n",
       "    </tr>\n",
       "    <tr>\n",
       "      <th>3</th>\n",
       "      <td>daniel ankamah</td>\n",
       "      <td>others</td>\n",
       "      <td>marques construtora e incorporadora ltda</td>\n",
       "      <td>1460</td>\n",
       "      <td>power bi</td>\n",
       "      <td>bs technology</td>\n",
       "    </tr>\n",
       "    <tr>\n",
       "      <th>4</th>\n",
       "      <td>amisha agrawal</td>\n",
       "      <td>others</td>\n",
       "      <td>joyn gmbh</td>\n",
       "      <td>455</td>\n",
       "      <td>others</td>\n",
       "      <td>msc data analyst</td>\n",
       "    </tr>\n",
       "    <tr>\n",
       "      <th>...</th>\n",
       "      <td>...</td>\n",
       "      <td>...</td>\n",
       "      <td>...</td>\n",
       "      <td>...</td>\n",
       "      <td>...</td>\n",
       "      <td>...</td>\n",
       "    </tr>\n",
       "    <tr>\n",
       "      <th>434</th>\n",
       "      <td>lukas krumholz</td>\n",
       "      <td>others</td>\n",
       "      <td>amer sports corporation</td>\n",
       "      <td>545</td>\n",
       "      <td>others</td>\n",
       "      <td>phd data science</td>\n",
       "    </tr>\n",
       "    <tr>\n",
       "      <th>435</th>\n",
       "      <td>bo li</td>\n",
       "      <td>data scientist</td>\n",
       "      <td>swarovski</td>\n",
       "      <td>1000</td>\n",
       "      <td>others</td>\n",
       "      <td>msc science</td>\n",
       "    </tr>\n",
       "    <tr>\n",
       "      <th>436</th>\n",
       "      <td>bidyut saha - data analyst</td>\n",
       "      <td>others</td>\n",
       "      <td>sap</td>\n",
       "      <td>730</td>\n",
       "      <td>microsoft certified</td>\n",
       "      <td>msc data science</td>\n",
       "    </tr>\n",
       "    <tr>\n",
       "      <th>437</th>\n",
       "      <td>sven serr</td>\n",
       "      <td>others</td>\n",
       "      <td>amores robotics</td>\n",
       "      <td>365</td>\n",
       "      <td>data analytics</td>\n",
       "      <td>bs computer science</td>\n",
       "    </tr>\n",
       "    <tr>\n",
       "      <th>438</th>\n",
       "      <td>julia fietz</td>\n",
       "      <td>intern</td>\n",
       "      <td>relcom ltd.</td>\n",
       "      <td>180</td>\n",
       "      <td>others</td>\n",
       "      <td>bs technology</td>\n",
       "    </tr>\n",
       "  </tbody>\n",
       "</table>\n",
       "<p>439 rows × 6 columns</p>\n",
       "</div>"
      ],
      "text/plain": [
       "                           Name            Jobs  \\\n",
       "0            naiara w jacoboski  data scientist   \n",
       "1                  sedat karsli          others   \n",
       "2            maximilian pfleger          intern   \n",
       "3                daniel ankamah          others   \n",
       "4                amisha agrawal          others   \n",
       "..                          ...             ...   \n",
       "434              lukas krumholz          others   \n",
       "435                       bo li  data scientist   \n",
       "436  bidyut saha - data analyst          others   \n",
       "437                   sven serr          others   \n",
       "438                 julia fietz          intern   \n",
       "\n",
       "                                      Company Experience   \\\n",
       "0                                       netza         365   \n",
       "1                                      vitrio          60   \n",
       "2                              edelman brasil         300   \n",
       "3    marques construtora e incorporadora ltda        1460   \n",
       "4                                   joyn gmbh         455   \n",
       "..                                        ...         ...   \n",
       "434                   amer sports corporation         545   \n",
       "435                                 swarovski        1000   \n",
       "436                                       sap         730   \n",
       "437                           amores robotics         365   \n",
       "438                               relcom ltd.         180   \n",
       "\n",
       "           Certification               Degree  \n",
       "0       machine learning          msc science  \n",
       "1                 others     msc data science  \n",
       "2               power bi  bs computer science  \n",
       "3               power bi        bs technology  \n",
       "4                 others     msc data analyst  \n",
       "..                   ...                  ...  \n",
       "434               others     phd data science  \n",
       "435               others          msc science  \n",
       "436  microsoft certified     msc data science  \n",
       "437       data analytics  bs computer science  \n",
       "438               others        bs technology  \n",
       "\n",
       "[439 rows x 6 columns]"
      ]
     },
     "execution_count": 72,
     "metadata": {},
     "output_type": "execute_result"
    }
   ],
   "source": [
    "\n",
    "df1=pd.DataFrame(df,columns=['Name','Jobs','Company','Experience ','Certification','Degree'])\n",
    "df1\n"
   ]
  },
  {
   "cell_type": "code",
   "execution_count": 73,
   "metadata": {},
   "outputs": [],
   "source": [
    "df1.to_csv('new_data.csv')"
   ]
  },
  {
   "cell_type": "markdown",
   "metadata": {},
   "source": [
    "### label encoding "
   ]
  },
  {
   "cell_type": "code",
   "execution_count": 74,
   "metadata": {},
   "outputs": [
    {
     "data": {
      "text/html": [
       "<div>\n",
       "<style scoped>\n",
       "    .dataframe tbody tr th:only-of-type {\n",
       "        vertical-align: middle;\n",
       "    }\n",
       "\n",
       "    .dataframe tbody tr th {\n",
       "        vertical-align: top;\n",
       "    }\n",
       "\n",
       "    .dataframe thead th {\n",
       "        text-align: right;\n",
       "    }\n",
       "</style>\n",
       "<table border=\"1\" class=\"dataframe\">\n",
       "  <thead>\n",
       "    <tr style=\"text-align: right;\">\n",
       "      <th></th>\n",
       "      <th>Name</th>\n",
       "      <th>Jobs</th>\n",
       "      <th>Company</th>\n",
       "      <th>Experience</th>\n",
       "      <th>Certification</th>\n",
       "      <th>Degree</th>\n",
       "    </tr>\n",
       "  </thead>\n",
       "  <tbody>\n",
       "    <tr>\n",
       "      <th>0</th>\n",
       "      <td>naiara w jacoboski</td>\n",
       "      <td>0</td>\n",
       "      <td>225</td>\n",
       "      <td>365</td>\n",
       "      <td>3</td>\n",
       "      <td>7</td>\n",
       "    </tr>\n",
       "    <tr>\n",
       "      <th>1</th>\n",
       "      <td>sedat karsli</td>\n",
       "      <td>2</td>\n",
       "      <td>340</td>\n",
       "      <td>60</td>\n",
       "      <td>6</td>\n",
       "      <td>6</td>\n",
       "    </tr>\n",
       "    <tr>\n",
       "      <th>2</th>\n",
       "      <td>maximilian pfleger</td>\n",
       "      <td>1</td>\n",
       "      <td>93</td>\n",
       "      <td>300</td>\n",
       "      <td>7</td>\n",
       "      <td>2</td>\n",
       "    </tr>\n",
       "    <tr>\n",
       "      <th>3</th>\n",
       "      <td>daniel ankamah</td>\n",
       "      <td>2</td>\n",
       "      <td>199</td>\n",
       "      <td>1460</td>\n",
       "      <td>7</td>\n",
       "      <td>4</td>\n",
       "    </tr>\n",
       "    <tr>\n",
       "      <th>4</th>\n",
       "      <td>amisha agrawal</td>\n",
       "      <td>2</td>\n",
       "      <td>168</td>\n",
       "      <td>455</td>\n",
       "      <td>6</td>\n",
       "      <td>5</td>\n",
       "    </tr>\n",
       "  </tbody>\n",
       "</table>\n",
       "</div>"
      ],
      "text/plain": [
       "                 Name  Jobs  Company Experience   Certification  Degree\n",
       "0  naiara w jacoboski     0      225         365              3       7\n",
       "1        sedat karsli     2      340          60              6       6\n",
       "2  maximilian pfleger     1       93         300              7       2\n",
       "3      daniel ankamah     2      199        1460              7       4\n",
       "4      amisha agrawal     2      168         455              6       5"
      ]
     },
     "execution_count": 74,
     "metadata": {},
     "output_type": "execute_result"
    }
   ],
   "source": [
    "# Import label encoder \n",
    "from sklearn import preprocessing\n",
    "# label_encoder object knows how to understand word labels. \n",
    "label_encoder = preprocessing.LabelEncoder()\n",
    "df['Jobs']= label_encoder.fit_transform(df['Jobs']) \n",
    "df['Company']= label_encoder.fit_transform(df['Company'])\n",
    "df['Certification']= label_encoder.fit_transform(df['Certification'])\n",
    "df['Degree']= label_encoder.fit_transform(df['Degree']) \n",
    "\n",
    "df.head()"
   ]
  },
  {
   "cell_type": "code",
   "execution_count": 75,
   "metadata": {},
   "outputs": [
    {
     "data": {
      "text/html": [
       "<div>\n",
       "<style scoped>\n",
       "    .dataframe tbody tr th:only-of-type {\n",
       "        vertical-align: middle;\n",
       "    }\n",
       "\n",
       "    .dataframe tbody tr th {\n",
       "        vertical-align: top;\n",
       "    }\n",
       "\n",
       "    .dataframe thead th {\n",
       "        text-align: right;\n",
       "    }\n",
       "</style>\n",
       "<table border=\"1\" class=\"dataframe\">\n",
       "  <thead>\n",
       "    <tr style=\"text-align: right;\">\n",
       "      <th></th>\n",
       "      <th>Name</th>\n",
       "      <th>Jobs</th>\n",
       "      <th>Company</th>\n",
       "      <th>Experience</th>\n",
       "      <th>Certification</th>\n",
       "      <th>Degree</th>\n",
       "    </tr>\n",
       "  </thead>\n",
       "  <tbody>\n",
       "    <tr>\n",
       "      <th>2</th>\n",
       "      <td>maximilian pfleger</td>\n",
       "      <td>1</td>\n",
       "      <td>93</td>\n",
       "      <td>300</td>\n",
       "      <td>7</td>\n",
       "      <td>2</td>\n",
       "    </tr>\n",
       "    <tr>\n",
       "      <th>8</th>\n",
       "      <td>kieu do</td>\n",
       "      <td>1</td>\n",
       "      <td>276</td>\n",
       "      <td>395</td>\n",
       "      <td>6</td>\n",
       "      <td>6</td>\n",
       "    </tr>\n",
       "    <tr>\n",
       "      <th>15</th>\n",
       "      <td>ahmed mzid</td>\n",
       "      <td>1</td>\n",
       "      <td>18</td>\n",
       "      <td>270</td>\n",
       "      <td>6</td>\n",
       "      <td>9</td>\n",
       "    </tr>\n",
       "    <tr>\n",
       "      <th>17</th>\n",
       "      <td>annalena erhard</td>\n",
       "      <td>1</td>\n",
       "      <td>213</td>\n",
       "      <td>90</td>\n",
       "      <td>3</td>\n",
       "      <td>6</td>\n",
       "    </tr>\n",
       "    <tr>\n",
       "      <th>18</th>\n",
       "      <td>claire beswick</td>\n",
       "      <td>1</td>\n",
       "      <td>275</td>\n",
       "      <td>90</td>\n",
       "      <td>6</td>\n",
       "      <td>2</td>\n",
       "    </tr>\n",
       "    <tr>\n",
       "      <th>...</th>\n",
       "      <td>...</td>\n",
       "      <td>...</td>\n",
       "      <td>...</td>\n",
       "      <td>...</td>\n",
       "      <td>...</td>\n",
       "      <td>...</td>\n",
       "    </tr>\n",
       "    <tr>\n",
       "      <th>420</th>\n",
       "      <td>felicia p.</td>\n",
       "      <td>1</td>\n",
       "      <td>107</td>\n",
       "      <td>1395</td>\n",
       "      <td>6</td>\n",
       "      <td>9</td>\n",
       "    </tr>\n",
       "    <tr>\n",
       "      <th>426</th>\n",
       "      <td>henning rolfes</td>\n",
       "      <td>1</td>\n",
       "      <td>204</td>\n",
       "      <td>1155</td>\n",
       "      <td>6</td>\n",
       "      <td>7</td>\n",
       "    </tr>\n",
       "    <tr>\n",
       "      <th>427</th>\n",
       "      <td>javier arbizu</td>\n",
       "      <td>1</td>\n",
       "      <td>126</td>\n",
       "      <td>1125</td>\n",
       "      <td>6</td>\n",
       "      <td>6</td>\n",
       "    </tr>\n",
       "    <tr>\n",
       "      <th>428</th>\n",
       "      <td>jana fender</td>\n",
       "      <td>1</td>\n",
       "      <td>331</td>\n",
       "      <td>545</td>\n",
       "      <td>6</td>\n",
       "      <td>2</td>\n",
       "    </tr>\n",
       "    <tr>\n",
       "      <th>438</th>\n",
       "      <td>julia fietz</td>\n",
       "      <td>1</td>\n",
       "      <td>255</td>\n",
       "      <td>180</td>\n",
       "      <td>6</td>\n",
       "      <td>4</td>\n",
       "    </tr>\n",
       "  </tbody>\n",
       "</table>\n",
       "<p>116 rows × 6 columns</p>\n",
       "</div>"
      ],
      "text/plain": [
       "                   Name  Jobs  Company Experience   Certification  Degree\n",
       "2    maximilian pfleger     1       93         300              7       2\n",
       "8               kieu do     1      276         395              6       6\n",
       "15           ahmed mzid     1       18         270              6       9\n",
       "17      annalena erhard     1      213          90              3       6\n",
       "18       claire beswick     1      275          90              6       2\n",
       "..                  ...   ...      ...         ...            ...     ...\n",
       "420          felicia p.     1      107        1395              6       9\n",
       "426      henning rolfes     1      204        1155              6       7\n",
       "427       javier arbizu     1      126        1125              6       6\n",
       "428         jana fender     1      331         545              6       2\n",
       "438         julia fietz     1      255         180              6       4\n",
       "\n",
       "[116 rows x 6 columns]"
      ]
     },
     "execution_count": 75,
     "metadata": {},
     "output_type": "execute_result"
    }
   ],
   "source": [
    "df[df['Jobs']==1]"
   ]
  },
  {
   "cell_type": "code",
   "execution_count": 76,
   "metadata": {},
   "outputs": [
    {
     "data": {
      "text/plain": [
       "\"#Under sampling\\nintern = df.loc[df['Jobs'] == 1]\\ndata_scientist=df.loc[df['Jobs'] == 0]\\nothers=df.loc[df['Jobs'] == 2][:len(data_scientist)]\\n \\n\\nnormal_distributed_df = pd.concat([intern, data_scientist,others])\\n\\n# Shuffle dataframe rows\\ndf1 = normal_distributed_df.sample(frac=1, random_state=42)\\ndf1 = df1.reset_index(drop=True)\\ndf1.head()\""
      ]
     },
     "execution_count": 76,
     "metadata": {},
     "output_type": "execute_result"
    }
   ],
   "source": [
    "'''#Under sampling\n",
    "intern = df.loc[df['Jobs'] == 1]\n",
    "data_scientist=df.loc[df['Jobs'] == 0]\n",
    "others=df.loc[df['Jobs'] == 2][:len(data_scientist)]\n",
    " \n",
    "\n",
    "normal_distributed_df = pd.concat([intern, data_scientist,others])\n",
    "\n",
    "# Shuffle dataframe rows\n",
    "df1 = normal_distributed_df.sample(frac=1, random_state=42)\n",
    "df1 = df1.reset_index(drop=True)\n",
    "df1.head()'''"
   ]
  },
  {
   "cell_type": "code",
   "execution_count": 77,
   "metadata": {},
   "outputs": [],
   "source": [
    "#x = df1['Jobs']\n",
    "#x.value_counts()"
   ]
  },
  {
   "cell_type": "markdown",
   "metadata": {},
   "source": [
    "# SVM Classifier-with kernal techniques"
   ]
  },
  {
   "cell_type": "code",
   "execution_count": 78,
   "metadata": {},
   "outputs": [],
   "source": [
    "X = df.iloc[:,[4,5]].values  \n",
    "y= df.iloc[:,1].values "
   ]
  },
  {
   "cell_type": "code",
   "execution_count": 113,
   "metadata": {},
   "outputs": [],
   "source": [
    "from sklearn import metrics"
   ]
  },
  {
   "cell_type": "code",
   "execution_count": null,
   "metadata": {},
   "outputs": [],
   "source": [
    "PlotPolly(p, X, y, 'highway-mpg')"
   ]
  },
  {
   "cell_type": "code",
   "execution_count": 79,
   "metadata": {},
   "outputs": [],
   "source": [
    "from sklearn.model_selection import train_test_split\n",
    "X_train, X_test, y_train, y_test = train_test_split(X, y, test_size = 0.10, stratify = y, random_state= 60)"
   ]
  },
  {
   "cell_type": "code",
   "execution_count": 80,
   "metadata": {},
   "outputs": [
    {
     "ename": "SyntaxError",
     "evalue": "EOF while scanning triple-quoted string literal (1750199914.py, line 3)",
     "output_type": "error",
     "traceback": [
      "\u001b[0;36m  Input \u001b[0;32mIn [80]\u001b[0;36m\u001b[0m\n\u001b[0;31m    svclassifier.fit(X_train, y_train)''''''\u001b[0m\n\u001b[0m                                            \n^\u001b[0m\n\u001b[0;31mSyntaxError\u001b[0m\u001b[0;31m:\u001b[0m EOF while scanning triple-quoted string literal\n"
     ]
    }
   ],
   "source": [
    "'''from sklearn.svm import SVC\n",
    "svclassifier = SVC(kernel='poly', degree=8)\n",
    "svclassifier.fit(X_train, y_train)''''''"
   ]
  },
  {
   "cell_type": "markdown",
   "metadata": {},
   "source": [
    "from sklearn.svm import SVC\n",
    "svclassifier = SVC(kernel='poly', degree=8)\n",
    "svclassifier.fit(X_train, y_train)"
   ]
  },
  {
   "cell_type": "code",
   "execution_count": 81,
   "metadata": {},
   "outputs": [],
   "source": [
    "#y_pred = svclassifier.predict(X_test)"
   ]
  },
  {
   "cell_type": "code",
   "execution_count": 82,
   "metadata": {},
   "outputs": [
    {
     "data": {
      "text/plain": [
       "'from sklearn.metrics import classification_report, confusion_matrix\\nprint(confusion_matrix(y_test, y_pred))\\nprint(classification_report(y_test, y_pred))'"
      ]
     },
     "execution_count": 82,
     "metadata": {},
     "output_type": "execute_result"
    }
   ],
   "source": [
    "'''from sklearn.metrics import classification_report, confusion_matrix\n",
    "print(confusion_matrix(y_test, y_pred))\n",
    "print(classification_report(y_test, y_pred))'''"
   ]
  },
  {
   "cell_type": "code",
   "execution_count": 83,
   "metadata": {},
   "outputs": [
    {
     "data": {
      "text/plain": [
       "'from sklearn import metrics\\n\\nconfusion_matrix = metrics.confusion_matrix(y_test, y_pred)\\n\\ncm_display = metrics.ConfusionMatrixDisplay(confusion_matrix = confusion_matrix, display_labels = [\"data scientist and analyst\",\"intern\",\"others\"])'"
      ]
     },
     "execution_count": 83,
     "metadata": {},
     "output_type": "execute_result"
    }
   ],
   "source": [
    "'''from sklearn import metrics\n",
    "\n",
    "confusion_matrix = metrics.confusion_matrix(y_test, y_pred)\n",
    "\n",
    "cm_display = metrics.ConfusionMatrixDisplay(confusion_matrix = confusion_matrix, display_labels = [\"data scientist and analyst\",\"intern\",\"others\"])'''"
   ]
  },
  {
   "cell_type": "code",
   "execution_count": 84,
   "metadata": {},
   "outputs": [],
   "source": [
    "#cm_display.plot()\n",
    "#mtp.show()"
   ]
  },
  {
   "cell_type": "markdown",
   "metadata": {},
   "source": [
    "## Sigmoid"
   ]
  },
  {
   "cell_type": "code",
   "execution_count": 85,
   "metadata": {},
   "outputs": [
    {
     "data": {
      "text/html": [
       "<style>#sk-container-id-6 {color: black;background-color: white;}#sk-container-id-6 pre{padding: 0;}#sk-container-id-6 div.sk-toggleable {background-color: white;}#sk-container-id-6 label.sk-toggleable__label {cursor: pointer;display: block;width: 100%;margin-bottom: 0;padding: 0.3em;box-sizing: border-box;text-align: center;}#sk-container-id-6 label.sk-toggleable__label-arrow:before {content: \"▸\";float: left;margin-right: 0.25em;color: #696969;}#sk-container-id-6 label.sk-toggleable__label-arrow:hover:before {color: black;}#sk-container-id-6 div.sk-estimator:hover label.sk-toggleable__label-arrow:before {color: black;}#sk-container-id-6 div.sk-toggleable__content {max-height: 0;max-width: 0;overflow: hidden;text-align: left;background-color: #f0f8ff;}#sk-container-id-6 div.sk-toggleable__content pre {margin: 0.2em;color: black;border-radius: 0.25em;background-color: #f0f8ff;}#sk-container-id-6 input.sk-toggleable__control:checked~div.sk-toggleable__content {max-height: 200px;max-width: 100%;overflow: auto;}#sk-container-id-6 input.sk-toggleable__control:checked~label.sk-toggleable__label-arrow:before {content: \"▾\";}#sk-container-id-6 div.sk-estimator input.sk-toggleable__control:checked~label.sk-toggleable__label {background-color: #d4ebff;}#sk-container-id-6 div.sk-label input.sk-toggleable__control:checked~label.sk-toggleable__label {background-color: #d4ebff;}#sk-container-id-6 input.sk-hidden--visually {border: 0;clip: rect(1px 1px 1px 1px);clip: rect(1px, 1px, 1px, 1px);height: 1px;margin: -1px;overflow: hidden;padding: 0;position: absolute;width: 1px;}#sk-container-id-6 div.sk-estimator {font-family: monospace;background-color: #f0f8ff;border: 1px dotted black;border-radius: 0.25em;box-sizing: border-box;margin-bottom: 0.5em;}#sk-container-id-6 div.sk-estimator:hover {background-color: #d4ebff;}#sk-container-id-6 div.sk-parallel-item::after {content: \"\";width: 100%;border-bottom: 1px solid gray;flex-grow: 1;}#sk-container-id-6 div.sk-label:hover label.sk-toggleable__label {background-color: #d4ebff;}#sk-container-id-6 div.sk-serial::before {content: \"\";position: absolute;border-left: 1px solid gray;box-sizing: border-box;top: 0;bottom: 0;left: 50%;z-index: 0;}#sk-container-id-6 div.sk-serial {display: flex;flex-direction: column;align-items: center;background-color: white;padding-right: 0.2em;padding-left: 0.2em;position: relative;}#sk-container-id-6 div.sk-item {position: relative;z-index: 1;}#sk-container-id-6 div.sk-parallel {display: flex;align-items: stretch;justify-content: center;background-color: white;position: relative;}#sk-container-id-6 div.sk-item::before, #sk-container-id-6 div.sk-parallel-item::before {content: \"\";position: absolute;border-left: 1px solid gray;box-sizing: border-box;top: 0;bottom: 0;left: 50%;z-index: -1;}#sk-container-id-6 div.sk-parallel-item {display: flex;flex-direction: column;z-index: 1;position: relative;background-color: white;}#sk-container-id-6 div.sk-parallel-item:first-child::after {align-self: flex-end;width: 50%;}#sk-container-id-6 div.sk-parallel-item:last-child::after {align-self: flex-start;width: 50%;}#sk-container-id-6 div.sk-parallel-item:only-child::after {width: 0;}#sk-container-id-6 div.sk-dashed-wrapped {border: 1px dashed gray;margin: 0 0.4em 0.5em 0.4em;box-sizing: border-box;padding-bottom: 0.4em;background-color: white;}#sk-container-id-6 div.sk-label label {font-family: monospace;font-weight: bold;display: inline-block;line-height: 1.2em;}#sk-container-id-6 div.sk-label-container {text-align: center;}#sk-container-id-6 div.sk-container {/* jupyter's `normalize.less` sets `[hidden] { display: none; }` but bootstrap.min.css set `[hidden] { display: none !important; }` so we also need the `!important` here to be able to override the default hidden behavior on the sphinx rendered scikit-learn.org. See: https://github.com/scikit-learn/scikit-learn/issues/21755 */display: inline-block !important;position: relative;}#sk-container-id-6 div.sk-text-repr-fallback {display: none;}</style><div id=\"sk-container-id-6\" class=\"sk-top-container\"><div class=\"sk-text-repr-fallback\"><pre>SVC(kernel=&#x27;sigmoid&#x27;)</pre><b>In a Jupyter environment, please rerun this cell to show the HTML representation or trust the notebook. <br />On GitHub, the HTML representation is unable to render, please try loading this page with nbviewer.org.</b></div><div class=\"sk-container\" hidden><div class=\"sk-item\"><div class=\"sk-estimator sk-toggleable\"><input class=\"sk-toggleable__control sk-hidden--visually\" id=\"sk-estimator-id-6\" type=\"checkbox\" checked><label for=\"sk-estimator-id-6\" class=\"sk-toggleable__label sk-toggleable__label-arrow\">SVC</label><div class=\"sk-toggleable__content\"><pre>SVC(kernel=&#x27;sigmoid&#x27;)</pre></div></div></div></div></div>"
      ],
      "text/plain": [
       "SVC(kernel='sigmoid')"
      ]
     },
     "execution_count": 85,
     "metadata": {},
     "output_type": "execute_result"
    }
   ],
   "source": [
    "from sklearn.svm import SVC\n",
    "svclassifier = SVC(kernel='sigmoid')\n",
    "svclassifier.fit(X_train, y_train)"
   ]
  },
  {
   "cell_type": "code",
   "execution_count": 87,
   "metadata": {},
   "outputs": [
    {
     "data": {
      "text/plain": [
       "array([2, 0, 0, 0, 2, 2, 1, 0, 2, 2, 0, 2, 0, 2, 1, 2, 2, 1, 2, 0, 0, 0,\n",
       "       1, 0, 1, 0, 0, 1, 2, 2, 1, 0, 0, 2, 0, 2, 0, 0, 0, 2, 0, 1, 0, 0])"
      ]
     },
     "execution_count": 87,
     "metadata": {},
     "output_type": "execute_result"
    }
   ],
   "source": [
    "y_pred = svclassifier.predict(X_test)\n",
    "y_pred"
   ]
  },
  {
   "cell_type": "code",
   "execution_count": 27,
   "metadata": {},
   "outputs": [
    {
     "name": "stdout",
     "output_type": "stream",
     "text": [
      "[[ 8  2  3]\n",
      " [ 3  3  5]\n",
      " [10  3  7]]\n",
      "                            precision    recall  f1-score   support\n",
      "\n",
      "data scientist and analyst       0.38      0.62      0.47        13\n",
      "                    intern       0.38      0.27      0.32        11\n",
      "                    others       0.47      0.35      0.40        20\n",
      "\n",
      "                  accuracy                           0.41        44\n",
      "                 macro avg       0.41      0.41      0.40        44\n",
      "              weighted avg       0.42      0.41      0.40        44\n",
      "\n"
     ]
    }
   ],
   "source": [
    "from sklearn.metrics import classification_report, confusion_matrix\n",
    "print(confusion_matrix(y_test, y_pred))\n",
    "print(classification_report(y_test, y_pred, target_names= [\"data scientist and analyst\",\"intern\",\"others\"]))"
   ]
  },
  {
   "cell_type": "code",
   "execution_count": 28,
   "metadata": {},
   "outputs": [],
   "source": [
    "from sklearn import metrics\n",
    "\n",
    "confusion_matrix = metrics.confusion_matrix(y_test, y_pred)\n",
    "\n",
    "cm_display = metrics.ConfusionMatrixDisplay(confusion_matrix = confusion_matrix,display_labels = [\"data scientist and analyst\",\"intern\",\"others\"])"
   ]
  },
  {
   "cell_type": "code",
   "execution_count": 29,
   "metadata": {},
   "outputs": [
    {
     "data": {
      "image/png": "[encoded data removed]",
      "text/plain": [
       "<Figure size 432x288 with 2 Axes>"
      ]
     },
     "metadata": {
      "needs_background": "light"
     },
     "output_type": "display_data"
    }
   ],
   "source": [
    "cm_display.plot()\n",
    "mtp.show()"
   ]
  },
  {
   "cell_type": "markdown",
   "metadata": {},
   "source": [
    "### Gaussian surface"
   ]
  },
  {
   "cell_type": "code",
   "execution_count": 30,
   "metadata": {},
   "outputs": [
    {
     "data": {
      "text/html": [
       "<style>#sk-container-id-2 {color: black;background-color: white;}#sk-container-id-2 pre{padding: 0;}#sk-container-id-2 div.sk-toggleable {background-color: white;}#sk-container-id-2 label.sk-toggleable__label {cursor: pointer;display: block;width: 100%;margin-bottom: 0;padding: 0.3em;box-sizing: border-box;text-align: center;}#sk-container-id-2 label.sk-toggleable__label-arrow:before {content: \"▸\";float: left;margin-right: 0.25em;color: #696969;}#sk-container-id-2 label.sk-toggleable__label-arrow:hover:before {color: black;}#sk-container-id-2 div.sk-estimator:hover label.sk-toggleable__label-arrow:before {color: black;}#sk-container-id-2 div.sk-toggleable__content {max-height: 0;max-width: 0;overflow: hidden;text-align: left;background-color: #f0f8ff;}#sk-container-id-2 div.sk-toggleable__content pre {margin: 0.2em;color: black;border-radius: 0.25em;background-color: #f0f8ff;}#sk-container-id-2 input.sk-toggleable__control:checked~div.sk-toggleable__content {max-height: 200px;max-width: 100%;overflow: auto;}#sk-container-id-2 input.sk-toggleable__control:checked~label.sk-toggleable__label-arrow:before {content: \"▾\";}#sk-container-id-2 div.sk-estimator input.sk-toggleable__control:checked~label.sk-toggleable__label {background-color: #d4ebff;}#sk-container-id-2 div.sk-label input.sk-toggleable__control:checked~label.sk-toggleable__label {background-color: #d4ebff;}#sk-container-id-2 input.sk-hidden--visually {border: 0;clip: rect(1px 1px 1px 1px);clip: rect(1px, 1px, 1px, 1px);height: 1px;margin: -1px;overflow: hidden;padding: 0;position: absolute;width: 1px;}#sk-container-id-2 div.sk-estimator {font-family: monospace;background-color: #f0f8ff;border: 1px dotted black;border-radius: 0.25em;box-sizing: border-box;margin-bottom: 0.5em;}#sk-container-id-2 div.sk-estimator:hover {background-color: #d4ebff;}#sk-container-id-2 div.sk-parallel-item::after {content: \"\";width: 100%;border-bottom: 1px solid gray;flex-grow: 1;}#sk-container-id-2 div.sk-label:hover label.sk-toggleable__label {background-color: #d4ebff;}#sk-container-id-2 div.sk-serial::before {content: \"\";position: absolute;border-left: 1px solid gray;box-sizing: border-box;top: 0;bottom: 0;left: 50%;z-index: 0;}#sk-container-id-2 div.sk-serial {display: flex;flex-direction: column;align-items: center;background-color: white;padding-right: 0.2em;padding-left: 0.2em;position: relative;}#sk-container-id-2 div.sk-item {position: relative;z-index: 1;}#sk-container-id-2 div.sk-parallel {display: flex;align-items: stretch;justify-content: center;background-color: white;position: relative;}#sk-container-id-2 div.sk-item::before, #sk-container-id-2 div.sk-parallel-item::before {content: \"\";position: absolute;border-left: 1px solid gray;box-sizing: border-box;top: 0;bottom: 0;left: 50%;z-index: -1;}#sk-container-id-2 div.sk-parallel-item {display: flex;flex-direction: column;z-index: 1;position: relative;background-color: white;}#sk-container-id-2 div.sk-parallel-item:first-child::after {align-self: flex-end;width: 50%;}#sk-container-id-2 div.sk-parallel-item:last-child::after {align-self: flex-start;width: 50%;}#sk-container-id-2 div.sk-parallel-item:only-child::after {width: 0;}#sk-container-id-2 div.sk-dashed-wrapped {border: 1px dashed gray;margin: 0 0.4em 0.5em 0.4em;box-sizing: border-box;padding-bottom: 0.4em;background-color: white;}#sk-container-id-2 div.sk-label label {font-family: monospace;font-weight: bold;display: inline-block;line-height: 1.2em;}#sk-container-id-2 div.sk-label-container {text-align: center;}#sk-container-id-2 div.sk-container {/* jupyter's `normalize.less` sets `[hidden] { display: none; }` but bootstrap.min.css set `[hidden] { display: none !important; }` so we also need the `!important` here to be able to override the default hidden behavior on the sphinx rendered scikit-learn.org. See: https://github.com/scikit-learn/scikit-learn/issues/21755 */display: inline-block !important;position: relative;}#sk-container-id-2 div.sk-text-repr-fallback {display: none;}</style><div id=\"sk-container-id-2\" class=\"sk-top-container\"><div class=\"sk-text-repr-fallback\"><pre>SVC()</pre><b>In a Jupyter environment, please rerun this cell to show the HTML representation or trust the notebook. <br />On GitHub, the HTML representation is unable to render, please try loading this page with nbviewer.org.</b></div><div class=\"sk-container\" hidden><div class=\"sk-item\"><div class=\"sk-estimator sk-toggleable\"><input class=\"sk-toggleable__control sk-hidden--visually\" id=\"sk-estimator-id-2\" type=\"checkbox\" checked><label for=\"sk-estimator-id-2\" class=\"sk-toggleable__label sk-toggleable__label-arrow\">SVC</label><div class=\"sk-toggleable__content\"><pre>SVC()</pre></div></div></div></div></div>"
      ],
      "text/plain": [
       "SVC()"
      ]
     },
     "execution_count": 30,
     "metadata": {},
     "output_type": "execute_result"
    }
   ],
   "source": [
    "from sklearn.svm import SVC\n",
    "svclassifier = SVC(kernel='rbf')\n",
    "svclassifier.fit(X_train, y_train)"
   ]
  },
  {
   "cell_type": "code",
   "execution_count": 31,
   "metadata": {},
   "outputs": [],
   "source": [
    "y_pred = svclassifier.predict(X_test)"
   ]
  },
  {
   "cell_type": "code",
   "execution_count": 32,
   "metadata": {},
   "outputs": [
    {
     "name": "stdout",
     "output_type": "stream",
     "text": [
      "[[ 0  0 13]\n",
      " [ 0  0 11]\n",
      " [ 0  0 20]]\n",
      "                            precision    recall  f1-score   support\n",
      "\n",
      "data scientist and analyst       0.00      0.00      0.00        13\n",
      "                    intern       0.00      0.00      0.00        11\n",
      "                    others       0.45      1.00      0.62        20\n",
      "\n",
      "                  accuracy                           0.45        44\n",
      "                 macro avg       0.15      0.33      0.21        44\n",
      "              weighted avg       0.21      0.45      0.28        44\n",
      "\n"
     ]
    },
    {
     "name": "stderr",
     "output_type": "stream",
     "text": [
      "/Users/user/opt/anaconda3/lib/python3.9/site-packages/sklearn/metrics/_classification.py:1334: UndefinedMetricWarning: Precision and F-score are ill-defined and being set to 0.0 in labels with no predicted samples. Use `zero_division` parameter to control this behavior.\n",
      "  _warn_prf(average, modifier, msg_start, len(result))\n",
      "/Users/user/opt/anaconda3/lib/python3.9/site-packages/sklearn/metrics/_classification.py:1334: UndefinedMetricWarning: Precision and F-score are ill-defined and being set to 0.0 in labels with no predicted samples. Use `zero_division` parameter to control this behavior.\n",
      "  _warn_prf(average, modifier, msg_start, len(result))\n",
      "/Users/user/opt/anaconda3/lib/python3.9/site-packages/sklearn/metrics/_classification.py:1334: UndefinedMetricWarning: Precision and F-score are ill-defined and being set to 0.0 in labels with no predicted samples. Use `zero_division` parameter to control this behavior.\n",
      "  _warn_prf(average, modifier, msg_start, len(result))\n"
     ]
    }
   ],
   "source": [
    "from sklearn.metrics import classification_report, confusion_matrix\n",
    "print(confusion_matrix(y_test, y_pred))\n",
    "print(classification_report(y_test, y_pred,target_names= [\"data scientist and analyst\",\"intern\",\"others\"]))"
   ]
  },
  {
   "cell_type": "code",
   "execution_count": 33,
   "metadata": {},
   "outputs": [],
   "source": [
    "from sklearn import metrics\n",
    "\n",
    "confusion_matrix = metrics.confusion_matrix(y_test, y_pred)\n",
    "\n",
    "cm_display = metrics.ConfusionMatrixDisplay(confusion_matrix = confusion_matrix,display_labels = [\"data scientist and analyst\",\"intern\",\"others\"])"
   ]
  },
  {
   "cell_type": "code",
   "execution_count": 34,
   "metadata": {},
   "outputs": [
    {
     "data": {
      "image/png": "[encoded data removed]",
      "text/plain": [
       "<Figure size 432x288 with 2 Axes>"
      ]
     },
     "metadata": {
      "needs_background": "light"
     },
     "output_type": "display_data"
    }
   ],
   "source": [
    "cm_display.plot()\n",
    "mtp.show()"
   ]
  },
  {
   "cell_type": "code",
   "execution_count": 35,
   "metadata": {},
   "outputs": [
    {
     "name": "stdout",
     "output_type": "stream",
     "text": [
      "(44, 2)\n",
      "(44,)\n"
     ]
    }
   ],
   "source": [
    "print(X_test.shape)\n",
    "print(y_pred.shape)"
   ]
  },
  {
   "cell_type": "code",
   "execution_count": 126,
   "metadata": {},
   "outputs": [
    {
     "name": "stderr",
     "output_type": "stream",
     "text": [
      "No handles with labels found to put in legend.\n"
     ]
    },
    {
     "data": {
      "image/png": "[encoded data removed]",
      "text/plain": [
       "<Figure size 500x400 with 1 Axes>"
      ]
     },
     "metadata": {
      "needs_background": "light"
     },
     "output_type": "display_data"
    }
   ],
   "source": [
    "def plotGraph(y_test,y_pred):\n",
    "    if max(y_test) >= max(y_pred):\n",
    "        my_range = int(max(y_test))\n",
    "    else:\n",
    "        my_range = int(max(y_pred))\n",
    "    mtp.scatter(range(len(y_test)), y_test, color='blue')\n",
    "    mtp.scatter(range(len(y_pred)), y_pred, color='red')\n",
    "    mtp.rcParams.update({'figure.figsize':(5,4), 'figure.dpi':50})\n",
    "    mtp.ylabel('Jobs')\n",
    "    mtp.xlabel('Degree,Certification')\n",
    "    mtp.legend()\n",
    "    mtp.show()\n",
    "    mtp.show()\n",
    "    return\n",
    "\n",
    "plotGraph(y_test, y_pred)"
   ]
  },
  {
   "cell_type": "markdown",
   "metadata": {},
   "source": [
    "# Data science related Jobs / no related Jobs classification"
   ]
  },
  {
   "cell_type": "code",
   "execution_count": 127,
   "metadata": {},
   "outputs": [
    {
     "data": {
      "text/html": [
       "<div>\n",
       "<style scoped>\n",
       "    .dataframe tbody tr th:only-of-type {\n",
       "        vertical-align: middle;\n",
       "    }\n",
       "\n",
       "    .dataframe tbody tr th {\n",
       "        vertical-align: top;\n",
       "    }\n",
       "\n",
       "    .dataframe thead th {\n",
       "        text-align: right;\n",
       "    }\n",
       "</style>\n",
       "<table border=\"1\" class=\"dataframe\">\n",
       "  <thead>\n",
       "    <tr style=\"text-align: right;\">\n",
       "      <th></th>\n",
       "      <th>Name</th>\n",
       "      <th>Jobs</th>\n",
       "      <th>Company</th>\n",
       "      <th>Experience</th>\n",
       "      <th>Certification</th>\n",
       "      <th>Degree</th>\n",
       "    </tr>\n",
       "  </thead>\n",
       "  <tbody>\n",
       "    <tr>\n",
       "      <th>0</th>\n",
       "      <td>naiara w jacoboski</td>\n",
       "      <td>data scientist</td>\n",
       "      <td>netza</td>\n",
       "      <td>365</td>\n",
       "      <td>machine learning</td>\n",
       "      <td>msc science</td>\n",
       "    </tr>\n",
       "    <tr>\n",
       "      <th>1</th>\n",
       "      <td>sedat karsli</td>\n",
       "      <td>others</td>\n",
       "      <td>vitrio</td>\n",
       "      <td>60</td>\n",
       "      <td>others</td>\n",
       "      <td>msc data science</td>\n",
       "    </tr>\n",
       "    <tr>\n",
       "      <th>2</th>\n",
       "      <td>maximilian pfleger</td>\n",
       "      <td>intern</td>\n",
       "      <td>edelman brasil</td>\n",
       "      <td>300</td>\n",
       "      <td>power bi</td>\n",
       "      <td>bs computer science</td>\n",
       "    </tr>\n",
       "    <tr>\n",
       "      <th>3</th>\n",
       "      <td>daniel ankamah</td>\n",
       "      <td>others</td>\n",
       "      <td>marques construtora e incorporadora ltda</td>\n",
       "      <td>1460</td>\n",
       "      <td>power bi</td>\n",
       "      <td>bs technology</td>\n",
       "    </tr>\n",
       "    <tr>\n",
       "      <th>4</th>\n",
       "      <td>amisha agrawal</td>\n",
       "      <td>others</td>\n",
       "      <td>joyn gmbh</td>\n",
       "      <td>455</td>\n",
       "      <td>others</td>\n",
       "      <td>msc data analyst</td>\n",
       "    </tr>\n",
       "    <tr>\n",
       "      <th>...</th>\n",
       "      <td>...</td>\n",
       "      <td>...</td>\n",
       "      <td>...</td>\n",
       "      <td>...</td>\n",
       "      <td>...</td>\n",
       "      <td>...</td>\n",
       "    </tr>\n",
       "    <tr>\n",
       "      <th>434</th>\n",
       "      <td>lukas krumholz</td>\n",
       "      <td>others</td>\n",
       "      <td>amer sports corporation</td>\n",
       "      <td>545</td>\n",
       "      <td>others</td>\n",
       "      <td>phd data science</td>\n",
       "    </tr>\n",
       "    <tr>\n",
       "      <th>435</th>\n",
       "      <td>bo li</td>\n",
       "      <td>data scientist</td>\n",
       "      <td>swarovski</td>\n",
       "      <td>1000</td>\n",
       "      <td>others</td>\n",
       "      <td>msc science</td>\n",
       "    </tr>\n",
       "    <tr>\n",
       "      <th>436</th>\n",
       "      <td>bidyut saha - data analyst</td>\n",
       "      <td>others</td>\n",
       "      <td>sap</td>\n",
       "      <td>730</td>\n",
       "      <td>microsoft certified</td>\n",
       "      <td>msc data science</td>\n",
       "    </tr>\n",
       "    <tr>\n",
       "      <th>437</th>\n",
       "      <td>sven serr</td>\n",
       "      <td>others</td>\n",
       "      <td>amores robotics</td>\n",
       "      <td>365</td>\n",
       "      <td>data analytics</td>\n",
       "      <td>bs computer science</td>\n",
       "    </tr>\n",
       "    <tr>\n",
       "      <th>438</th>\n",
       "      <td>julia fietz</td>\n",
       "      <td>intern</td>\n",
       "      <td>relcom ltd.</td>\n",
       "      <td>180</td>\n",
       "      <td>others</td>\n",
       "      <td>bs technology</td>\n",
       "    </tr>\n",
       "  </tbody>\n",
       "</table>\n",
       "<p>439 rows × 6 columns</p>\n",
       "</div>"
      ],
      "text/plain": [
       "                           Name            Jobs  \\\n",
       "0            naiara w jacoboski  data scientist   \n",
       "1                  sedat karsli          others   \n",
       "2            maximilian pfleger          intern   \n",
       "3                daniel ankamah          others   \n",
       "4                amisha agrawal          others   \n",
       "..                          ...             ...   \n",
       "434              lukas krumholz          others   \n",
       "435                       bo li  data scientist   \n",
       "436  bidyut saha - data analyst          others   \n",
       "437                   sven serr          others   \n",
       "438                 julia fietz          intern   \n",
       "\n",
       "                                      Company Experience   \\\n",
       "0                                       netza         365   \n",
       "1                                      vitrio          60   \n",
       "2                              edelman brasil         300   \n",
       "3    marques construtora e incorporadora ltda        1460   \n",
       "4                                   joyn gmbh         455   \n",
       "..                                        ...         ...   \n",
       "434                   amer sports corporation         545   \n",
       "435                                 swarovski        1000   \n",
       "436                                       sap         730   \n",
       "437                           amores robotics         365   \n",
       "438                               relcom ltd.         180   \n",
       "\n",
       "           Certification               Degree  \n",
       "0       machine learning          msc science  \n",
       "1                 others     msc data science  \n",
       "2               power bi  bs computer science  \n",
       "3               power bi        bs technology  \n",
       "4                 others     msc data analyst  \n",
       "..                   ...                  ...  \n",
       "434               others     phd data science  \n",
       "435               others          msc science  \n",
       "436  microsoft certified     msc data science  \n",
       "437       data analytics  bs computer science  \n",
       "438               others        bs technology  \n",
       "\n",
       "[439 rows x 6 columns]"
      ]
     },
     "execution_count": 127,
     "metadata": {},
     "output_type": "execute_result"
    }
   ],
   "source": [
    "Dataframe=pd.DataFrame(df1,columns=['Name','Jobs','Company','Experience ','Certification','Degree'])\n",
    "Dataframe"
   ]
  },
  {
   "cell_type": "code",
   "execution_count": 128,
   "metadata": {},
   "outputs": [],
   "source": [
    "def Jobcheck(Dataframe, sub_str, stri):\n",
    "    for i in range(0,len(Dataframe.iloc[:,1])):\n",
    "      if (Dataframe.iloc[i,1].find(sub_str)!=-1):\n",
    "        Dataframe.iloc[i,1]=stri\n",
    "      \n",
    "          \n",
    "Jobcheck(Dataframe, \"data scientist\",\"Jobs\")\n",
    "Jobcheck(Dataframe, \"intern\",\"Jobs\")\n",
    "\n",
    "\n",
    "for i in range(0,len(Dataframe.iloc[:,1])):\n",
    "      if (Dataframe.iloc[i,1]!=\"Jobs\"):\n",
    "        Dataframe.iloc[i,1]='No Job' "
   ]
  },
  {
   "cell_type": "code",
   "execution_count": 129,
   "metadata": {},
   "outputs": [
    {
     "data": {
      "text/html": [
       "<div>\n",
       "<style scoped>\n",
       "    .dataframe tbody tr th:only-of-type {\n",
       "        vertical-align: middle;\n",
       "    }\n",
       "\n",
       "    .dataframe tbody tr th {\n",
       "        vertical-align: top;\n",
       "    }\n",
       "\n",
       "    .dataframe thead th {\n",
       "        text-align: right;\n",
       "    }\n",
       "</style>\n",
       "<table border=\"1\" class=\"dataframe\">\n",
       "  <thead>\n",
       "    <tr style=\"text-align: right;\">\n",
       "      <th></th>\n",
       "      <th>Name</th>\n",
       "      <th>Jobs</th>\n",
       "      <th>Company</th>\n",
       "      <th>Experience</th>\n",
       "      <th>Certification</th>\n",
       "      <th>Degree</th>\n",
       "    </tr>\n",
       "  </thead>\n",
       "  <tbody>\n",
       "    <tr>\n",
       "      <th>0</th>\n",
       "      <td>naiara w jacoboski</td>\n",
       "      <td>Jobs</td>\n",
       "      <td>netza</td>\n",
       "      <td>365</td>\n",
       "      <td>machine learning</td>\n",
       "      <td>msc science</td>\n",
       "    </tr>\n",
       "    <tr>\n",
       "      <th>1</th>\n",
       "      <td>sedat karsli</td>\n",
       "      <td>No Job</td>\n",
       "      <td>vitrio</td>\n",
       "      <td>60</td>\n",
       "      <td>others</td>\n",
       "      <td>msc data science</td>\n",
       "    </tr>\n",
       "    <tr>\n",
       "      <th>2</th>\n",
       "      <td>maximilian pfleger</td>\n",
       "      <td>Jobs</td>\n",
       "      <td>edelman brasil</td>\n",
       "      <td>300</td>\n",
       "      <td>power bi</td>\n",
       "      <td>bs computer science</td>\n",
       "    </tr>\n",
       "    <tr>\n",
       "      <th>3</th>\n",
       "      <td>daniel ankamah</td>\n",
       "      <td>No Job</td>\n",
       "      <td>marques construtora e incorporadora ltda</td>\n",
       "      <td>1460</td>\n",
       "      <td>power bi</td>\n",
       "      <td>bs technology</td>\n",
       "    </tr>\n",
       "    <tr>\n",
       "      <th>4</th>\n",
       "      <td>amisha agrawal</td>\n",
       "      <td>No Job</td>\n",
       "      <td>joyn gmbh</td>\n",
       "      <td>455</td>\n",
       "      <td>others</td>\n",
       "      <td>msc data analyst</td>\n",
       "    </tr>\n",
       "    <tr>\n",
       "      <th>...</th>\n",
       "      <td>...</td>\n",
       "      <td>...</td>\n",
       "      <td>...</td>\n",
       "      <td>...</td>\n",
       "      <td>...</td>\n",
       "      <td>...</td>\n",
       "    </tr>\n",
       "    <tr>\n",
       "      <th>434</th>\n",
       "      <td>lukas krumholz</td>\n",
       "      <td>No Job</td>\n",
       "      <td>amer sports corporation</td>\n",
       "      <td>545</td>\n",
       "      <td>others</td>\n",
       "      <td>phd data science</td>\n",
       "    </tr>\n",
       "    <tr>\n",
       "      <th>435</th>\n",
       "      <td>bo li</td>\n",
       "      <td>Jobs</td>\n",
       "      <td>swarovski</td>\n",
       "      <td>1000</td>\n",
       "      <td>others</td>\n",
       "      <td>msc science</td>\n",
       "    </tr>\n",
       "    <tr>\n",
       "      <th>436</th>\n",
       "      <td>bidyut saha - data analyst</td>\n",
       "      <td>No Job</td>\n",
       "      <td>sap</td>\n",
       "      <td>730</td>\n",
       "      <td>microsoft certified</td>\n",
       "      <td>msc data science</td>\n",
       "    </tr>\n",
       "    <tr>\n",
       "      <th>437</th>\n",
       "      <td>sven serr</td>\n",
       "      <td>No Job</td>\n",
       "      <td>amores robotics</td>\n",
       "      <td>365</td>\n",
       "      <td>data analytics</td>\n",
       "      <td>bs computer science</td>\n",
       "    </tr>\n",
       "    <tr>\n",
       "      <th>438</th>\n",
       "      <td>julia fietz</td>\n",
       "      <td>Jobs</td>\n",
       "      <td>relcom ltd.</td>\n",
       "      <td>180</td>\n",
       "      <td>others</td>\n",
       "      <td>bs technology</td>\n",
       "    </tr>\n",
       "  </tbody>\n",
       "</table>\n",
       "<p>439 rows × 6 columns</p>\n",
       "</div>"
      ],
      "text/plain": [
       "                           Name    Jobs  \\\n",
       "0            naiara w jacoboski    Jobs   \n",
       "1                  sedat karsli  No Job   \n",
       "2            maximilian pfleger    Jobs   \n",
       "3                daniel ankamah  No Job   \n",
       "4                amisha agrawal  No Job   \n",
       "..                          ...     ...   \n",
       "434              lukas krumholz  No Job   \n",
       "435                       bo li    Jobs   \n",
       "436  bidyut saha - data analyst  No Job   \n",
       "437                   sven serr  No Job   \n",
       "438                 julia fietz    Jobs   \n",
       "\n",
       "                                      Company Experience   \\\n",
       "0                                       netza         365   \n",
       "1                                      vitrio          60   \n",
       "2                              edelman brasil         300   \n",
       "3    marques construtora e incorporadora ltda        1460   \n",
       "4                                   joyn gmbh         455   \n",
       "..                                        ...         ...   \n",
       "434                   amer sports corporation         545   \n",
       "435                                 swarovski        1000   \n",
       "436                                       sap         730   \n",
       "437                           amores robotics         365   \n",
       "438                               relcom ltd.         180   \n",
       "\n",
       "           Certification               Degree  \n",
       "0       machine learning          msc science  \n",
       "1                 others     msc data science  \n",
       "2               power bi  bs computer science  \n",
       "3               power bi        bs technology  \n",
       "4                 others     msc data analyst  \n",
       "..                   ...                  ...  \n",
       "434               others     phd data science  \n",
       "435               others          msc science  \n",
       "436  microsoft certified     msc data science  \n",
       "437       data analytics  bs computer science  \n",
       "438               others        bs technology  \n",
       "\n",
       "[439 rows x 6 columns]"
      ]
     },
     "execution_count": 129,
     "metadata": {},
     "output_type": "execute_result"
    }
   ],
   "source": [
    "Dataframe"
   ]
  },
  {
   "cell_type": "code",
   "execution_count": 130,
   "metadata": {},
   "outputs": [],
   "source": [
    "def Certcheck(Dataframe, sub_str, stri):\n",
    "    for i in range(0,len(Dataframe.iloc[:,4])):\n",
    "      if (Dataframe.iloc[i,4].find(sub_str)!=-1):\n",
    "        Dataframe.iloc[i,4]=stri\n",
    "      \n",
    "          \n",
    "Certcheck(Dataframe, \"machine learning\",\"Data related Jobs\")\n",
    "Certcheck(Dataframe, \"power bi\",\"Data related Jobs\")\n",
    "Certcheck(Dataframe, \"microsoft certified\",\"Data related Jobs\")\n",
    "Certcheck(Dataframe, \"data analytics\",\"Data related Jobs\")\n",
    "Certcheck(Dataframe, \"neural network\",\"Data related Jobs\")\n",
    "Certcheck(Dataframe, \"data science\",\"Data related Jobs\")\n",
    "Certcheck(Dataframe, \"scrum master\",\"Data related Jobs\")\n",
    "Certcheck(Dataframe, \"certified in python\",\"Data related Jobs\")\n",
    "Certcheck(Dataframe, \"certified in r\",\"Data related Jobs\")\n",
    "Certcheck(Dataframe, \"learning django\",\"Data related Jobs\")\n",
    "\n",
    "\n",
    "for i in range(0,len(Dataframe.iloc[:,4])):\n",
    "      if (Dataframe.iloc[i,4]!=\"Data related Jobs\"):\n",
    "        Dataframe.iloc[i,4]= \"others\""
   ]
  },
  {
   "cell_type": "code",
   "execution_count": 131,
   "metadata": {},
   "outputs": [],
   "source": [
    "Dataframe\n",
    "Dataframe.to_csv('job_data.csv')"
   ]
  },
  {
   "cell_type": "code",
   "execution_count": 132,
   "metadata": {},
   "outputs": [
    {
     "data": {
      "text/plain": [
       "Jobs      243\n",
       "No Job    196\n",
       "Name: Jobs, dtype: int64"
      ]
     },
     "execution_count": 132,
     "metadata": {},
     "output_type": "execute_result"
    }
   ],
   "source": [
    "x = Dataframe['Jobs']\n",
    "x.value_counts()"
   ]
  },
  {
   "cell_type": "markdown",
   "metadata": {},
   "source": [
    "### label encoding "
   ]
  },
  {
   "cell_type": "code",
   "execution_count": 133,
   "metadata": {},
   "outputs": [
    {
     "data": {
      "text/html": [
       "<div>\n",
       "<style scoped>\n",
       "    .dataframe tbody tr th:only-of-type {\n",
       "        vertical-align: middle;\n",
       "    }\n",
       "\n",
       "    .dataframe tbody tr th {\n",
       "        vertical-align: top;\n",
       "    }\n",
       "\n",
       "    .dataframe thead th {\n",
       "        text-align: right;\n",
       "    }\n",
       "</style>\n",
       "<table border=\"1\" class=\"dataframe\">\n",
       "  <thead>\n",
       "    <tr style=\"text-align: right;\">\n",
       "      <th></th>\n",
       "      <th>Name</th>\n",
       "      <th>Jobs</th>\n",
       "      <th>Company</th>\n",
       "      <th>Experience</th>\n",
       "      <th>Certification</th>\n",
       "      <th>Degree</th>\n",
       "    </tr>\n",
       "  </thead>\n",
       "  <tbody>\n",
       "    <tr>\n",
       "      <th>0</th>\n",
       "      <td>naiara w jacoboski</td>\n",
       "      <td>0</td>\n",
       "      <td>225</td>\n",
       "      <td>365</td>\n",
       "      <td>0</td>\n",
       "      <td>7</td>\n",
       "    </tr>\n",
       "    <tr>\n",
       "      <th>1</th>\n",
       "      <td>sedat karsli</td>\n",
       "      <td>1</td>\n",
       "      <td>340</td>\n",
       "      <td>60</td>\n",
       "      <td>1</td>\n",
       "      <td>6</td>\n",
       "    </tr>\n",
       "    <tr>\n",
       "      <th>2</th>\n",
       "      <td>maximilian pfleger</td>\n",
       "      <td>0</td>\n",
       "      <td>93</td>\n",
       "      <td>300</td>\n",
       "      <td>0</td>\n",
       "      <td>2</td>\n",
       "    </tr>\n",
       "    <tr>\n",
       "      <th>3</th>\n",
       "      <td>daniel ankamah</td>\n",
       "      <td>1</td>\n",
       "      <td>199</td>\n",
       "      <td>1460</td>\n",
       "      <td>0</td>\n",
       "      <td>4</td>\n",
       "    </tr>\n",
       "    <tr>\n",
       "      <th>4</th>\n",
       "      <td>amisha agrawal</td>\n",
       "      <td>1</td>\n",
       "      <td>168</td>\n",
       "      <td>455</td>\n",
       "      <td>1</td>\n",
       "      <td>5</td>\n",
       "    </tr>\n",
       "  </tbody>\n",
       "</table>\n",
       "</div>"
      ],
      "text/plain": [
       "                 Name  Jobs  Company Experience   Certification  Degree\n",
       "0  naiara w jacoboski     0      225         365              0       7\n",
       "1        sedat karsli     1      340          60              1       6\n",
       "2  maximilian pfleger     0       93         300              0       2\n",
       "3      daniel ankamah     1      199        1460              0       4\n",
       "4      amisha agrawal     1      168         455              1       5"
      ]
     },
     "execution_count": 133,
     "metadata": {},
     "output_type": "execute_result"
    }
   ],
   "source": [
    "# Import label encoder \n",
    "from sklearn import preprocessing\n",
    "# label_encoder object knows how to understand word labels. \n",
    "label_encoder = preprocessing.LabelEncoder()\n",
    "Dataframe['Jobs']= label_encoder.fit_transform(Dataframe['Jobs']) \n",
    "Dataframe['Company']= label_encoder.fit_transform(Dataframe['Company'])\n",
    "Dataframe['Certification']= label_encoder.fit_transform(Dataframe['Certification'])\n",
    "Dataframe['Degree']= label_encoder.fit_transform(Dataframe['Degree']) \n",
    "\n",
    "Dataframe.head()"
   ]
  },
  {
   "cell_type": "markdown",
   "metadata": {},
   "source": [
    "## SVM-Kernal Classifier"
   ]
  },
  {
   "cell_type": "code",
   "execution_count": 134,
   "metadata": {},
   "outputs": [],
   "source": [
    "X = Dataframe.iloc[:,[4]].values  \n",
    "y= Dataframe.iloc[:,1].values "
   ]
  },
  {
   "cell_type": "code",
   "execution_count": 45,
   "metadata": {},
   "outputs": [],
   "source": [
    "from sklearn.model_selection import train_test_split\n",
    "X_train, X_test, y_train, y_test = train_test_split(X, y, test_size = 0.10,random_state= 60)"
   ]
  },
  {
   "cell_type": "markdown",
   "metadata": {},
   "source": [
    "### Polynomial"
   ]
  },
  {
   "cell_type": "code",
   "execution_count": 46,
   "metadata": {},
   "outputs": [
    {
     "data": {
      "text/html": [
       "<style>#sk-container-id-3 {color: black;background-color: white;}#sk-container-id-3 pre{padding: 0;}#sk-container-id-3 div.sk-toggleable {background-color: white;}#sk-container-id-3 label.sk-toggleable__label {cursor: pointer;display: block;width: 100%;margin-bottom: 0;padding: 0.3em;box-sizing: border-box;text-align: center;}#sk-container-id-3 label.sk-toggleable__label-arrow:before {content: \"▸\";float: left;margin-right: 0.25em;color: #696969;}#sk-container-id-3 label.sk-toggleable__label-arrow:hover:before {color: black;}#sk-container-id-3 div.sk-estimator:hover label.sk-toggleable__label-arrow:before {color: black;}#sk-container-id-3 div.sk-toggleable__content {max-height: 0;max-width: 0;overflow: hidden;text-align: left;background-color: #f0f8ff;}#sk-container-id-3 div.sk-toggleable__content pre {margin: 0.2em;color: black;border-radius: 0.25em;background-color: #f0f8ff;}#sk-container-id-3 input.sk-toggleable__control:checked~div.sk-toggleable__content {max-height: 200px;max-width: 100%;overflow: auto;}#sk-container-id-3 input.sk-toggleable__control:checked~label.sk-toggleable__label-arrow:before {content: \"▾\";}#sk-container-id-3 div.sk-estimator input.sk-toggleable__control:checked~label.sk-toggleable__label {background-color: #d4ebff;}#sk-container-id-3 div.sk-label input.sk-toggleable__control:checked~label.sk-toggleable__label {background-color: #d4ebff;}#sk-container-id-3 input.sk-hidden--visually {border: 0;clip: rect(1px 1px 1px 1px);clip: rect(1px, 1px, 1px, 1px);height: 1px;margin: -1px;overflow: hidden;padding: 0;position: absolute;width: 1px;}#sk-container-id-3 div.sk-estimator {font-family: monospace;background-color: #f0f8ff;border: 1px dotted black;border-radius: 0.25em;box-sizing: border-box;margin-bottom: 0.5em;}#sk-container-id-3 div.sk-estimator:hover {background-color: #d4ebff;}#sk-container-id-3 div.sk-parallel-item::after {content: \"\";width: 100%;border-bottom: 1px solid gray;flex-grow: 1;}#sk-container-id-3 div.sk-label:hover label.sk-toggleable__label {background-color: #d4ebff;}#sk-container-id-3 div.sk-serial::before {content: \"\";position: absolute;border-left: 1px solid gray;box-sizing: border-box;top: 0;bottom: 0;left: 50%;z-index: 0;}#sk-container-id-3 div.sk-serial {display: flex;flex-direction: column;align-items: center;background-color: white;padding-right: 0.2em;padding-left: 0.2em;position: relative;}#sk-container-id-3 div.sk-item {position: relative;z-index: 1;}#sk-container-id-3 div.sk-parallel {display: flex;align-items: stretch;justify-content: center;background-color: white;position: relative;}#sk-container-id-3 div.sk-item::before, #sk-container-id-3 div.sk-parallel-item::before {content: \"\";position: absolute;border-left: 1px solid gray;box-sizing: border-box;top: 0;bottom: 0;left: 50%;z-index: -1;}#sk-container-id-3 div.sk-parallel-item {display: flex;flex-direction: column;z-index: 1;position: relative;background-color: white;}#sk-container-id-3 div.sk-parallel-item:first-child::after {align-self: flex-end;width: 50%;}#sk-container-id-3 div.sk-parallel-item:last-child::after {align-self: flex-start;width: 50%;}#sk-container-id-3 div.sk-parallel-item:only-child::after {width: 0;}#sk-container-id-3 div.sk-dashed-wrapped {border: 1px dashed gray;margin: 0 0.4em 0.5em 0.4em;box-sizing: border-box;padding-bottom: 0.4em;background-color: white;}#sk-container-id-3 div.sk-label label {font-family: monospace;font-weight: bold;display: inline-block;line-height: 1.2em;}#sk-container-id-3 div.sk-label-container {text-align: center;}#sk-container-id-3 div.sk-container {/* jupyter's `normalize.less` sets `[hidden] { display: none; }` but bootstrap.min.css set `[hidden] { display: none !important; }` so we also need the `!important` here to be able to override the default hidden behavior on the sphinx rendered scikit-learn.org. See: https://github.com/scikit-learn/scikit-learn/issues/21755 */display: inline-block !important;position: relative;}#sk-container-id-3 div.sk-text-repr-fallback {display: none;}</style><div id=\"sk-container-id-3\" class=\"sk-top-container\"><div class=\"sk-text-repr-fallback\"><pre>SVC(degree=8, kernel=&#x27;poly&#x27;)</pre><b>In a Jupyter environment, please rerun this cell to show the HTML representation or trust the notebook. <br />On GitHub, the HTML representation is unable to render, please try loading this page with nbviewer.org.</b></div><div class=\"sk-container\" hidden><div class=\"sk-item\"><div class=\"sk-estimator sk-toggleable\"><input class=\"sk-toggleable__control sk-hidden--visually\" id=\"sk-estimator-id-3\" type=\"checkbox\" checked><label for=\"sk-estimator-id-3\" class=\"sk-toggleable__label sk-toggleable__label-arrow\">SVC</label><div class=\"sk-toggleable__content\"><pre>SVC(degree=8, kernel=&#x27;poly&#x27;)</pre></div></div></div></div></div>"
      ],
      "text/plain": [
       "SVC(degree=8, kernel='poly')"
      ]
     },
     "execution_count": 46,
     "metadata": {},
     "output_type": "execute_result"
    }
   ],
   "source": [
    "from sklearn.svm import SVC\n",
    "svclassifier = SVC(kernel='poly', degree=8)\n",
    "svclassifier.fit(X_train, y_train)"
   ]
  },
  {
   "cell_type": "code",
   "execution_count": 47,
   "metadata": {},
   "outputs": [],
   "source": [
    "y_pred = svclassifier.predict(X_test)"
   ]
  },
  {
   "cell_type": "code",
   "execution_count": 48,
   "metadata": {},
   "outputs": [
    {
     "name": "stdout",
     "output_type": "stream",
     "text": [
      "[[27  0]\n",
      " [17  0]]\n",
      "              precision    recall  f1-score   support\n",
      "\n",
      "           0       0.61      1.00      0.76        27\n",
      "           1       0.00      0.00      0.00        17\n",
      "\n",
      "    accuracy                           0.61        44\n",
      "   macro avg       0.31      0.50      0.38        44\n",
      "weighted avg       0.38      0.61      0.47        44\n",
      "\n"
     ]
    },
    {
     "name": "stderr",
     "output_type": "stream",
     "text": [
      "/Users/user/opt/anaconda3/lib/python3.9/site-packages/sklearn/metrics/_classification.py:1334: UndefinedMetricWarning: Precision and F-score are ill-defined and being set to 0.0 in labels with no predicted samples. Use `zero_division` parameter to control this behavior.\n",
      "  _warn_prf(average, modifier, msg_start, len(result))\n",
      "/Users/user/opt/anaconda3/lib/python3.9/site-packages/sklearn/metrics/_classification.py:1334: UndefinedMetricWarning: Precision and F-score are ill-defined and being set to 0.0 in labels with no predicted samples. Use `zero_division` parameter to control this behavior.\n",
      "  _warn_prf(average, modifier, msg_start, len(result))\n",
      "/Users/user/opt/anaconda3/lib/python3.9/site-packages/sklearn/metrics/_classification.py:1334: UndefinedMetricWarning: Precision and F-score are ill-defined and being set to 0.0 in labels with no predicted samples. Use `zero_division` parameter to control this behavior.\n",
      "  _warn_prf(average, modifier, msg_start, len(result))\n"
     ]
    }
   ],
   "source": [
    "from sklearn.metrics import classification_report, confusion_matrix\n",
    "print(confusion_matrix(y_test, y_pred))\n",
    "print(classification_report(y_test, y_pred))"
   ]
  },
  {
   "cell_type": "markdown",
   "metadata": {},
   "source": [
    "### Sigmoid"
   ]
  },
  {
   "cell_type": "code",
   "execution_count": 135,
   "metadata": {},
   "outputs": [
    {
     "data": {
      "text/html": [
       "<style>#sk-container-id-7 {color: black;background-color: white;}#sk-container-id-7 pre{padding: 0;}#sk-container-id-7 div.sk-toggleable {background-color: white;}#sk-container-id-7 label.sk-toggleable__label {cursor: pointer;display: block;width: 100%;margin-bottom: 0;padding: 0.3em;box-sizing: border-box;text-align: center;}#sk-container-id-7 label.sk-toggleable__label-arrow:before {content: \"▸\";float: left;margin-right: 0.25em;color: #696969;}#sk-container-id-7 label.sk-toggleable__label-arrow:hover:before {color: black;}#sk-container-id-7 div.sk-estimator:hover label.sk-toggleable__label-arrow:before {color: black;}#sk-container-id-7 div.sk-toggleable__content {max-height: 0;max-width: 0;overflow: hidden;text-align: left;background-color: #f0f8ff;}#sk-container-id-7 div.sk-toggleable__content pre {margin: 0.2em;color: black;border-radius: 0.25em;background-color: #f0f8ff;}#sk-container-id-7 input.sk-toggleable__control:checked~div.sk-toggleable__content {max-height: 200px;max-width: 100%;overflow: auto;}#sk-container-id-7 input.sk-toggleable__control:checked~label.sk-toggleable__label-arrow:before {content: \"▾\";}#sk-container-id-7 div.sk-estimator input.sk-toggleable__control:checked~label.sk-toggleable__label {background-color: #d4ebff;}#sk-container-id-7 div.sk-label input.sk-toggleable__control:checked~label.sk-toggleable__label {background-color: #d4ebff;}#sk-container-id-7 input.sk-hidden--visually {border: 0;clip: rect(1px 1px 1px 1px);clip: rect(1px, 1px, 1px, 1px);height: 1px;margin: -1px;overflow: hidden;padding: 0;position: absolute;width: 1px;}#sk-container-id-7 div.sk-estimator {font-family: monospace;background-color: #f0f8ff;border: 1px dotted black;border-radius: 0.25em;box-sizing: border-box;margin-bottom: 0.5em;}#sk-container-id-7 div.sk-estimator:hover {background-color: #d4ebff;}#sk-container-id-7 div.sk-parallel-item::after {content: \"\";width: 100%;border-bottom: 1px solid gray;flex-grow: 1;}#sk-container-id-7 div.sk-label:hover label.sk-toggleable__label {background-color: #d4ebff;}#sk-container-id-7 div.sk-serial::before {content: \"\";position: absolute;border-left: 1px solid gray;box-sizing: border-box;top: 0;bottom: 0;left: 50%;z-index: 0;}#sk-container-id-7 div.sk-serial {display: flex;flex-direction: column;align-items: center;background-color: white;padding-right: 0.2em;padding-left: 0.2em;position: relative;}#sk-container-id-7 div.sk-item {position: relative;z-index: 1;}#sk-container-id-7 div.sk-parallel {display: flex;align-items: stretch;justify-content: center;background-color: white;position: relative;}#sk-container-id-7 div.sk-item::before, #sk-container-id-7 div.sk-parallel-item::before {content: \"\";position: absolute;border-left: 1px solid gray;box-sizing: border-box;top: 0;bottom: 0;left: 50%;z-index: -1;}#sk-container-id-7 div.sk-parallel-item {display: flex;flex-direction: column;z-index: 1;position: relative;background-color: white;}#sk-container-id-7 div.sk-parallel-item:first-child::after {align-self: flex-end;width: 50%;}#sk-container-id-7 div.sk-parallel-item:last-child::after {align-self: flex-start;width: 50%;}#sk-container-id-7 div.sk-parallel-item:only-child::after {width: 0;}#sk-container-id-7 div.sk-dashed-wrapped {border: 1px dashed gray;margin: 0 0.4em 0.5em 0.4em;box-sizing: border-box;padding-bottom: 0.4em;background-color: white;}#sk-container-id-7 div.sk-label label {font-family: monospace;font-weight: bold;display: inline-block;line-height: 1.2em;}#sk-container-id-7 div.sk-label-container {text-align: center;}#sk-container-id-7 div.sk-container {/* jupyter's `normalize.less` sets `[hidden] { display: none; }` but bootstrap.min.css set `[hidden] { display: none !important; }` so we also need the `!important` here to be able to override the default hidden behavior on the sphinx rendered scikit-learn.org. See: https://github.com/scikit-learn/scikit-learn/issues/21755 */display: inline-block !important;position: relative;}#sk-container-id-7 div.sk-text-repr-fallback {display: none;}</style><div id=\"sk-container-id-7\" class=\"sk-top-container\"><div class=\"sk-text-repr-fallback\"><pre>SVC(kernel=&#x27;sigmoid&#x27;)</pre><b>In a Jupyter environment, please rerun this cell to show the HTML representation or trust the notebook. <br />On GitHub, the HTML representation is unable to render, please try loading this page with nbviewer.org.</b></div><div class=\"sk-container\" hidden><div class=\"sk-item\"><div class=\"sk-estimator sk-toggleable\"><input class=\"sk-toggleable__control sk-hidden--visually\" id=\"sk-estimator-id-7\" type=\"checkbox\" checked><label for=\"sk-estimator-id-7\" class=\"sk-toggleable__label sk-toggleable__label-arrow\">SVC</label><div class=\"sk-toggleable__content\"><pre>SVC(kernel=&#x27;sigmoid&#x27;)</pre></div></div></div></div></div>"
      ],
      "text/plain": [
       "SVC(kernel='sigmoid')"
      ]
     },
     "execution_count": 135,
     "metadata": {},
     "output_type": "execute_result"
    }
   ],
   "source": [
    "from sklearn.svm import SVC\n",
    "svclassifier = SVC(kernel='sigmoid')\n",
    "svclassifier.fit(X_train, y_train)"
   ]
  },
  {
   "cell_type": "code",
   "execution_count": 50,
   "metadata": {},
   "outputs": [],
   "source": [
    "y_pred = svclassifier.predict(X_test)"
   ]
  },
  {
   "cell_type": "code",
   "execution_count": 51,
   "metadata": {},
   "outputs": [
    {
     "name": "stdout",
     "output_type": "stream",
     "text": [
      "[[27  0]\n",
      " [17  0]]\n",
      "              precision    recall  f1-score   support\n",
      "\n",
      "   Data Jobs       0.61      1.00      0.76        27\n",
      "      others       0.00      0.00      0.00        17\n",
      "\n",
      "    accuracy                           0.61        44\n",
      "   macro avg       0.31      0.50      0.38        44\n",
      "weighted avg       0.38      0.61      0.47        44\n",
      "\n"
     ]
    },
    {
     "name": "stderr",
     "output_type": "stream",
     "text": [
      "/Users/user/opt/anaconda3/lib/python3.9/site-packages/sklearn/metrics/_classification.py:1334: UndefinedMetricWarning: Precision and F-score are ill-defined and being set to 0.0 in labels with no predicted samples. Use `zero_division` parameter to control this behavior.\n",
      "  _warn_prf(average, modifier, msg_start, len(result))\n",
      "/Users/user/opt/anaconda3/lib/python3.9/site-packages/sklearn/metrics/_classification.py:1334: UndefinedMetricWarning: Precision and F-score are ill-defined and being set to 0.0 in labels with no predicted samples. Use `zero_division` parameter to control this behavior.\n",
      "  _warn_prf(average, modifier, msg_start, len(result))\n",
      "/Users/user/opt/anaconda3/lib/python3.9/site-packages/sklearn/metrics/_classification.py:1334: UndefinedMetricWarning: Precision and F-score are ill-defined and being set to 0.0 in labels with no predicted samples. Use `zero_division` parameter to control this behavior.\n",
      "  _warn_prf(average, modifier, msg_start, len(result))\n"
     ]
    }
   ],
   "source": [
    "from sklearn.metrics import classification_report, confusion_matrix\n",
    "print(confusion_matrix(y_test, y_pred))\n",
    "print(classification_report(y_test, y_pred,target_names= [\"Data Jobs\",\"others\"]))"
   ]
  },
  {
   "cell_type": "code",
   "execution_count": 52,
   "metadata": {},
   "outputs": [],
   "source": [
    "from sklearn import metrics\n",
    "\n",
    "confusion_matrix = metrics.confusion_matrix(y_test, y_pred)\n",
    "\n",
    "cm_display = metrics.ConfusionMatrixDisplay(confusion_matrix = confusion_matrix,display_labels = [\"data jobs\",\"others\"])"
   ]
  },
  {
   "cell_type": "code",
   "execution_count": 53,
   "metadata": {},
   "outputs": [
    {
     "data": {
      "image/png": "[encoded data removed]",
      "text/plain": [
       "<Figure size 432x288 with 2 Axes>"
      ]
     },
     "metadata": {
      "needs_background": "light"
     },
     "output_type": "display_data"
    }
   ],
   "source": [
    "cm_display.plot()\n",
    "mtp.show()"
   ]
  },
  {
   "cell_type": "markdown",
   "metadata": {},
   "source": [
    "### Gaussian Surface"
   ]
  },
  {
   "cell_type": "code",
   "execution_count": null,
   "metadata": {},
   "outputs": [],
   "source": []
  },
  {
   "cell_type": "code",
   "execution_count": 54,
   "metadata": {},
   "outputs": [
    {
     "data": {
      "text/html": [
       "<style>#sk-container-id-5 {color: black;background-color: white;}#sk-container-id-5 pre{padding: 0;}#sk-container-id-5 div.sk-toggleable {background-color: white;}#sk-container-id-5 label.sk-toggleable__label {cursor: pointer;display: block;width: 100%;margin-bottom: 0;padding: 0.3em;box-sizing: border-box;text-align: center;}#sk-container-id-5 label.sk-toggleable__label-arrow:before {content: \"▸\";float: left;margin-right: 0.25em;color: #696969;}#sk-container-id-5 label.sk-toggleable__label-arrow:hover:before {color: black;}#sk-container-id-5 div.sk-estimator:hover label.sk-toggleable__label-arrow:before {color: black;}#sk-container-id-5 div.sk-toggleable__content {max-height: 0;max-width: 0;overflow: hidden;text-align: left;background-color: #f0f8ff;}#sk-container-id-5 div.sk-toggleable__content pre {margin: 0.2em;color: black;border-radius: 0.25em;background-color: #f0f8ff;}#sk-container-id-5 input.sk-toggleable__control:checked~div.sk-toggleable__content {max-height: 200px;max-width: 100%;overflow: auto;}#sk-container-id-5 input.sk-toggleable__control:checked~label.sk-toggleable__label-arrow:before {content: \"▾\";}#sk-container-id-5 div.sk-estimator input.sk-toggleable__control:checked~label.sk-toggleable__label {background-color: #d4ebff;}#sk-container-id-5 div.sk-label input.sk-toggleable__control:checked~label.sk-toggleable__label {background-color: #d4ebff;}#sk-container-id-5 input.sk-hidden--visually {border: 0;clip: rect(1px 1px 1px 1px);clip: rect(1px, 1px, 1px, 1px);height: 1px;margin: -1px;overflow: hidden;padding: 0;position: absolute;width: 1px;}#sk-container-id-5 div.sk-estimator {font-family: monospace;background-color: #f0f8ff;border: 1px dotted black;border-radius: 0.25em;box-sizing: border-box;margin-bottom: 0.5em;}#sk-container-id-5 div.sk-estimator:hover {background-color: #d4ebff;}#sk-container-id-5 div.sk-parallel-item::after {content: \"\";width: 100%;border-bottom: 1px solid gray;flex-grow: 1;}#sk-container-id-5 div.sk-label:hover label.sk-toggleable__label {background-color: #d4ebff;}#sk-container-id-5 div.sk-serial::before {content: \"\";position: absolute;border-left: 1px solid gray;box-sizing: border-box;top: 0;bottom: 0;left: 50%;z-index: 0;}#sk-container-id-5 div.sk-serial {display: flex;flex-direction: column;align-items: center;background-color: white;padding-right: 0.2em;padding-left: 0.2em;position: relative;}#sk-container-id-5 div.sk-item {position: relative;z-index: 1;}#sk-container-id-5 div.sk-parallel {display: flex;align-items: stretch;justify-content: center;background-color: white;position: relative;}#sk-container-id-5 div.sk-item::before, #sk-container-id-5 div.sk-parallel-item::before {content: \"\";position: absolute;border-left: 1px solid gray;box-sizing: border-box;top: 0;bottom: 0;left: 50%;z-index: -1;}#sk-container-id-5 div.sk-parallel-item {display: flex;flex-direction: column;z-index: 1;position: relative;background-color: white;}#sk-container-id-5 div.sk-parallel-item:first-child::after {align-self: flex-end;width: 50%;}#sk-container-id-5 div.sk-parallel-item:last-child::after {align-self: flex-start;width: 50%;}#sk-container-id-5 div.sk-parallel-item:only-child::after {width: 0;}#sk-container-id-5 div.sk-dashed-wrapped {border: 1px dashed gray;margin: 0 0.4em 0.5em 0.4em;box-sizing: border-box;padding-bottom: 0.4em;background-color: white;}#sk-container-id-5 div.sk-label label {font-family: monospace;font-weight: bold;display: inline-block;line-height: 1.2em;}#sk-container-id-5 div.sk-label-container {text-align: center;}#sk-container-id-5 div.sk-container {/* jupyter's `normalize.less` sets `[hidden] { display: none; }` but bootstrap.min.css set `[hidden] { display: none !important; }` so we also need the `!important` here to be able to override the default hidden behavior on the sphinx rendered scikit-learn.org. See: https://github.com/scikit-learn/scikit-learn/issues/21755 */display: inline-block !important;position: relative;}#sk-container-id-5 div.sk-text-repr-fallback {display: none;}</style><div id=\"sk-container-id-5\" class=\"sk-top-container\"><div class=\"sk-text-repr-fallback\"><pre>SVC()</pre><b>In a Jupyter environment, please rerun this cell to show the HTML representation or trust the notebook. <br />On GitHub, the HTML representation is unable to render, please try loading this page with nbviewer.org.</b></div><div class=\"sk-container\" hidden><div class=\"sk-item\"><div class=\"sk-estimator sk-toggleable\"><input class=\"sk-toggleable__control sk-hidden--visually\" id=\"sk-estimator-id-5\" type=\"checkbox\" checked><label for=\"sk-estimator-id-5\" class=\"sk-toggleable__label sk-toggleable__label-arrow\">SVC</label><div class=\"sk-toggleable__content\"><pre>SVC()</pre></div></div></div></div></div>"
      ],
      "text/plain": [
       "SVC()"
      ]
     },
     "execution_count": 54,
     "metadata": {},
     "output_type": "execute_result"
    }
   ],
   "source": [
    "from sklearn.svm import SVC\n",
    "svclassifier = SVC(kernel='rbf')\n",
    "svclassifier.fit(X_train, y_train)"
   ]
  },
  {
   "cell_type": "code",
   "execution_count": 55,
   "metadata": {},
   "outputs": [],
   "source": [
    "y_pred = svclassifier.predict(X_test)"
   ]
  },
  {
   "cell_type": "code",
   "execution_count": 56,
   "metadata": {},
   "outputs": [
    {
     "name": "stdout",
     "output_type": "stream",
     "text": [
      "[[27  0]\n",
      " [17  0]]\n",
      "              precision    recall  f1-score   support\n",
      "\n",
      "        Jobs       0.61      1.00      0.76        27\n",
      "     No Jobs       0.00      0.00      0.00        17\n",
      "\n",
      "    accuracy                           0.61        44\n",
      "   macro avg       0.31      0.50      0.38        44\n",
      "weighted avg       0.38      0.61      0.47        44\n",
      "\n"
     ]
    },
    {
     "name": "stderr",
     "output_type": "stream",
     "text": [
      "/Users/user/opt/anaconda3/lib/python3.9/site-packages/sklearn/metrics/_classification.py:1334: UndefinedMetricWarning: Precision and F-score are ill-defined and being set to 0.0 in labels with no predicted samples. Use `zero_division` parameter to control this behavior.\n",
      "  _warn_prf(average, modifier, msg_start, len(result))\n",
      "/Users/user/opt/anaconda3/lib/python3.9/site-packages/sklearn/metrics/_classification.py:1334: UndefinedMetricWarning: Precision and F-score are ill-defined and being set to 0.0 in labels with no predicted samples. Use `zero_division` parameter to control this behavior.\n",
      "  _warn_prf(average, modifier, msg_start, len(result))\n",
      "/Users/user/opt/anaconda3/lib/python3.9/site-packages/sklearn/metrics/_classification.py:1334: UndefinedMetricWarning: Precision and F-score are ill-defined and being set to 0.0 in labels with no predicted samples. Use `zero_division` parameter to control this behavior.\n",
      "  _warn_prf(average, modifier, msg_start, len(result))\n"
     ]
    }
   ],
   "source": [
    "from sklearn.metrics import classification_report, confusion_matrix\n",
    "print(confusion_matrix(y_test, y_pred))\n",
    "print(classification_report(y_test, y_pred,target_names= [\"Jobs\",\"No Jobs\"]))"
   ]
  },
  {
   "cell_type": "code",
   "execution_count": 138,
   "metadata": {},
   "outputs": [
    {
     "name": "stderr",
     "output_type": "stream",
     "text": [
      "No handles with labels found to put in legend.\n"
     ]
    },
    {
     "data": {
      "image/png": "[encoded data removed]",
      "text/plain": [
       "<Figure size 500x400 with 1 Axes>"
      ]
     },
     "metadata": {
      "needs_background": "light"
     },
     "output_type": "display_data"
    }
   ],
   "source": [
    "def plotGraph(y_test,y_pred):\n",
    "    if max(y_test) >= max(y_pred):\n",
    "        my_range = int(max(y_test))\n",
    "    else:\n",
    "        my_range = int(max(y_pred))\n",
    "    mtp.scatter(range(len(y_test)), y_test, color='blue')\n",
    "    mtp.scatter(range(len(y_pred)), y_pred, color='red')\n",
    "    mtp.rcParams.update({'figure.figsize':(10,8), 'figure.dpi':100})\n",
    "    mtp.ylabel('Jobs')\n",
    "    mtp.xlabel('Degree,Certification')\n",
    "    mtp.legend()\n",
    "    mtp.show()\n",
    "    mtp.show()\n",
    "    return\n",
    "\n",
    "plotGraph(y_test, y_pred)"
   ]
  },
  {
   "cell_type": "code",
   "execution_count": null,
   "metadata": {},
   "outputs": [],
   "source": []
  }
 ],
 "metadata": {
  "kernelspec": {
   "display_name": "Python 3.9.12 ('base')",
   "language": "python",
   "name": "python3"
  },
  "language_info": {
   "codemirror_mode": {
    "name": "ipython",
    "version": 3
   },
   "file_extension": ".py",
   "mimetype": "text/x-python",
   "name": "python",
   "nbconvert_exporter": "python",
   "pygments_lexer": "ipython3",
   "version": "3.9.12"
  },
  "orig_nbformat": 4,
  "vscode": {
   "interpreter": {
    "hash": "701d4f28dcd0866722f5108a3a4cbcd08882d26398b6d44117e791d7b8102912"
   }
  }
 },
 "nbformat": 4,
 "nbformat_minor": 2
}
